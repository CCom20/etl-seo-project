{
 "cells": [
  {
   "cell_type": "code",
   "execution_count": 48,
   "metadata": {},
   "outputs": [],
   "source": [
    "import requests\n",
    "from cleantext import clean\n",
    "from nltk.corpus import stopwords\n",
    "import pandas as pd\n",
    "import nltk\n",
    "from bs4 import BeautifulSoup as bs\n",
    "from splinter import Browser\n",
    "from webdriver_manager.chrome import ChromeDriverManager\n",
    "import time"
   ]
  },
  {
   "cell_type": "code",
   "execution_count": 16,
   "metadata": {},
   "outputs": [
    {
     "name": "stderr",
     "output_type": "stream",
     "text": [
      "[WDM] - Current google-chrome version is 86.0.4240\n",
      "[WDM] - Get LATEST driver version for 86.0.4240\n",
      "[WDM] - Driver [C:\\Users\\coled\\.wdm\\drivers\\chromedriver\\win32\\86.0.4240.22\\chromedriver.exe] found in cache\n"
     ]
    },
    {
     "name": "stdout",
     "output_type": "stream",
     "text": [
      " \n"
     ]
    }
   ],
   "source": [
    "executable_path = {'executable_path': ChromeDriverManager().install()}\n",
    "browser = Browser('chrome', **executable_path, headless=False)\n",
    "\n",
    "main_url = 'https://www.ccu.edu/undergrad/'\n",
    "\n",
    "browser.visit(main_url)"
   ]
  },
  {
   "cell_type": "code",
   "execution_count": 17,
   "metadata": {},
   "outputs": [],
   "source": [
    "html = browser.html"
   ]
  },
  {
   "cell_type": "code",
   "execution_count": 18,
   "metadata": {},
   "outputs": [],
   "source": [
    "program_soup = bs(html, 'lxml')"
   ]
  },
  {
   "cell_type": "code",
   "execution_count": 19,
   "metadata": {},
   "outputs": [],
   "source": [
    "program_urls = program_soup.select('li a.uk-panel')"
   ]
  },
  {
   "cell_type": "code",
   "execution_count": 51,
   "metadata": {},
   "outputs": [
    {
     "name": "stdout",
     "output_type": "stream",
     "text": [
      "[{'word': 'accounting', 'count': 18}, {'word': 'business', 'count': 10}, {'word': 'degree', 'count': 6}, {'word': 'christian', 'count': 6}, {'word': 'finance', 'count': 4}, {'word': 'knowledge', 'count': 4}, {'word': 'management', 'count': 3}, {'word': 'colorado', 'count': 3}, {'word': 'provides', 'count': 3}, {'word': 'also', 'count': 3}]\n",
      "[{'word': 'accounting', 'count': 18}, {'word': 'business', 'count': 10}, {'word': 'degree', 'count': 6}, {'word': 'christian', 'count': 6}, {'word': 'finance', 'count': 4}, {'word': 'knowledge', 'count': 4}, {'word': 'management', 'count': 3}, {'word': 'colorado', 'count': 3}, {'word': 'provides', 'count': 3}, {'word': 'also', 'count': 3}]\n",
      "[{'word': 'biblical', 'count': 12}, {'word': 'studies', 'count': 12}, {'word': 'degree', 'count': 6}, {'word': 'dual', 'count': 4}, {'word': 'program', 'count': 4}, {'word': 'arts', 'count': 3}, {'word': 'bible', 'count': 3}, {'word': 'languages', 'count': 3}, {'word': 'graduate', 'count': 3}, {'word': 'students', 'count': 3}]\n",
      "[{'word': 'biology', 'count': 7}, {'word': 'science', 'count': 6}, {'word': 'christian', 'count': 4}, {'word': 'degree', 'count': 3}, {'word': 'courses', 'count': 3}, {'word': 'important', 'count': 3}, {'word': 'graduate', 'count': 3}, {'word': 'colorado', 'count': 2}, {'word': 'university', 'count': 2}, {'word': 'field', 'count': 2}]\n",
      "[{'word': 'business', 'count': 11}, {'word': 'minor', 'count': 5}, {'word': 'provide', 'count': 4}, {'word': 'students', 'count': 4}, {'word': 'ethics', 'count': 4}, {'word': 'designed', 'count': 3}, {'word': 'nonbusiness', 'count': 2}, {'word': 'understanding', 'count': 2}, {'word': 'concepts', 'count': 2}, {'word': 'exposure', 'count': 2}]\n",
      "[{'word': 'business', 'count': 15}, {'word': 'administration', 'count': 5}, {'word': 'world', 'count': 4}, {'word': 'degree', 'count': 4}, {'word': 'leaders', 'count': 4}, {'word': 'vision', 'count': 4}, {'word': 'ethics', 'count': 4}, {'word': 'ethical', 'count': 3}, {'word': 'ccu', 'count': 3}, {'word': 'christian', 'count': 2}]\n",
      "[{'word': 'camp', 'count': 8}, {'word': 'minor', 'count': 5}, {'word': 'management', 'count': 5}, {'word': 'youth', 'count': 4}, {'word': 'business', 'count': 4}, {'word': 'church', 'count': 2}, {'word': 'ministry', 'count': 2}, {'word': 'provide', 'count': 2}, {'word': 'understanding', 'count': 2}, {'word': 'new', 'count': 2}]\n",
      "[{'word': 'chemistry', 'count': 10}, {'word': 'minor', 'count': 6}, {'word': 'science', 'count': 4}, {'word': 'world', 'count': 4}, {'word': 'major', 'count': 3}, {'word': 'study', 'count': 3}, {'word': 'christian', 'count': 2}, {'word': 'offers', 'count': 2}, {'word': 'field', 'count': 2}, {'word': 'function', 'count': 2}]\n",
      "[{'word': 'history', 'count': 12}, {'word': 'church', 'count': 10}, {'word': 'minor', 'count': 4}, {'word': 'christian', 'count': 3}, {'word': 'contemporary', 'count': 2}, {'word': 'knowledge', 'count': 2}, {'word': 'historical', 'count': 2}, {'word': 'students', 'count': 2}, {'word': 'variety', 'count': 2}, {'word': 'graduates', 'count': 2}]\n",
      "[{'word': 'history', 'count': 12}, {'word': 'church', 'count': 10}, {'word': 'minor', 'count': 4}, {'word': 'christian', 'count': 3}, {'word': 'contemporary', 'count': 2}, {'word': 'knowledge', 'count': 2}, {'word': 'historical', 'count': 2}, {'word': 'students', 'count': 2}, {'word': 'variety', 'count': 2}, {'word': 'graduates', 'count': 2}]\n",
      "[{'word': 'history', 'count': 12}, {'word': 'church', 'count': 10}, {'word': 'minor', 'count': 4}, {'word': 'christian', 'count': 3}, {'word': 'contemporary', 'count': 2}, {'word': 'knowledge', 'count': 2}, {'word': 'historical', 'count': 2}, {'word': 'students', 'count': 2}, {'word': 'variety', 'count': 2}, {'word': 'graduates', 'count': 2}]\n",
      "[{'word': 'information', 'count': 9}, {'word': 'systems', 'count': 7}, {'word': 'computer', 'count': 6}, {'word': 'degree', 'count': 5}, {'word': 'cis', 'count': 4}, {'word': 'emphasis', 'count': 3}, {'word': 'business', 'count': 3}, {'word': 'data', 'count': 3}, {'word': 'science', 'count': 2}, {'word': 'students', 'count': 2}]\n",
      "[{'word': 'business', 'count': 6}, {'word': 'minor', 'count': 5}, {'word': 'cpas', 'count': 5}, {'word': 'public', 'count': 4}, {'word': 'accounting', 'count': 4}, {'word': 'cpa', 'count': 4}, {'word': 'accountants', 'count': 3}, {'word': 'certified', 'count': 2}, {'word': 'become', 'count': 2}, {'word': 'financial', 'count': 2}]\n",
      "[{'word': 'creative', 'count': 7}, {'word': 'writing', 'count': 7}, {'word': 'minor', 'count': 4}, {'word': 'genres', 'count': 4}, {'word': 'english', 'count': 3}, {'word': 'students', 'count': 2}, {'word': 'majors', 'count': 2}, {'word': 'may', 'count': 2}, {'word': 'take', 'count': 2}, {'word': 'written', 'count': 2}]\n",
      "[{'word': 'criminal', 'count': 7}, {'word': 'law', 'count': 7}, {'word': 'justice', 'count': 6}, {'word': 'program', 'count': 4}, {'word': 'enforcement', 'count': 4}, {'word': 'students', 'count': 3}, {'word': 'agencies', 'count': 3}, {'word': 'practice', 'count': 2}, {'word': 'courts', 'count': 2}, {'word': 'corrections', 'count': 2}]\n",
      "[{'word': 'media', 'count': 8}, {'word': 'minor', 'count': 6}, {'word': 'digital', 'count': 6}, {'word': 'communication', 'count': 4}, {'word': 'students', 'count': 4}, {'word': 'social', 'count': 3}, {'word': 'skills', 'count': 3}, {'word': 'field', 'count': 2}, {'word': 'designed', 'count': 2}, {'word': 'provide', 'count': 2}]\n",
      "[{'word': 'economics', 'count': 5}, {'word': 'economic', 'count': 5}, {'word': 'minor', 'count': 4}, {'word': 'christian', 'count': 3}, {'word': 'able', 'count': 3}, {'word': 'market', 'count': 3}, {'word': 'business', 'count': 3}, {'word': 'youll', 'count': 3}, {'word': 'students', 'count': 2}, {'word': 'decisions', 'count': 2}]\n",
      "[{'word': 'minor', 'count': 8}, {'word': 'education', 'count': 8}, {'word': 'youll', 'count': 3}, {'word': 'young', 'count': 3}, {'word': 'people', 'count': 3}, {'word': 'lead', 'count': 3}, {'word': 'students', 'count': 3}, {'word': 'ccu', 'count': 2}, {'word': 'lives', 'count': 2}, {'word': 'learning', 'count': 2}]\n",
      "[{'word': 'education', 'count': 12}, {'word': 'elementary', 'count': 11}, {'word': 'program', 'count': 8}, {'word': 'arts', 'count': 6}, {'word': 'licensure', 'count': 5}, {'word': 'ccus', 'count': 4}, {'word': 'liberal', 'count': 4}, {'word': 'reading', 'count': 4}, {'word': 'state', 'count': 4}, {'word': 'required', 'count': 3}]\n",
      "[{'word': 'systems', 'count': 7}, {'word': 'industrial', 'count': 6}, {'word': 'engineering', 'count': 5}, {'word': 'science', 'count': 2}, {'word': 'skills', 'count': 2}, {'word': 'chain', 'count': 2}, {'word': 'waste', 'count': 2}, {'word': 'resources', 'count': 2}, {'word': 'skill', 'count': 2}, {'word': 'set', 'count': 2}]\n",
      "[{'word': 'systems', 'count': 7}, {'word': 'industrial', 'count': 6}, {'word': 'engineering', 'count': 5}, {'word': 'science', 'count': 2}, {'word': 'skills', 'count': 2}, {'word': 'chain', 'count': 2}, {'word': 'waste', 'count': 2}, {'word': 'resources', 'count': 2}, {'word': 'skill', 'count': 2}, {'word': 'set', 'count': 2}]\n",
      "[{'word': 'minor', 'count': 4}, {'word': 'financial', 'count': 4}, {'word': 'finance', 'count': 3}, {'word': 'knowledge', 'count': 3}, {'word': 'field', 'count': 2}, {'word': 'skills', 'count': 2}, {'word': 'business', 'count': 2}, {'word': 'analysis', 'count': 2}, {'word': 'offers', 'count': 2}, {'word': 'concepts', 'count': 2}]\n",
      "[{'word': 'minor', 'count': 4}, {'word': 'financial', 'count': 4}, {'word': 'finance', 'count': 3}, {'word': 'knowledge', 'count': 3}, {'word': 'field', 'count': 2}, {'word': 'skills', 'count': 2}, {'word': 'business', 'count': 2}, {'word': 'analysis', 'count': 2}, {'word': 'offers', 'count': 2}, {'word': 'concepts', 'count': 2}]\n",
      "[{'word': 'health', 'count': 7}, {'word': 'sciences', 'count': 6}, {'word': 'graduate', 'count': 4}, {'word': 'science', 'count': 3}, {'word': 'youll', 'count': 3}, {'word': 'bachelor', 'count': 2}, {'word': 'colorado', 'count': 2}, {'word': 'christian', 'count': 2}, {'word': 'professional', 'count': 2}, {'word': 'study', 'count': 2}]\n",
      "[{'word': 'health', 'count': 7}, {'word': 'sciences', 'count': 6}, {'word': 'graduate', 'count': 4}, {'word': 'science', 'count': 3}, {'word': 'youll', 'count': 3}, {'word': 'bachelor', 'count': 2}, {'word': 'colorado', 'count': 2}, {'word': 'christian', 'count': 2}, {'word': 'professional', 'count': 2}, {'word': 'study', 'count': 2}]\n"
     ]
    },
    {
     "name": "stdout",
     "output_type": "stream",
     "text": [
      "[{'word': 'minor', 'count': 7}, {'word': 'intercultural', 'count': 6}, {'word': 'ministry', 'count': 6}, {'word': 'us', 'count': 5}, {'word': 'theology', 'count': 3}, {'word': 'knowledge', 'count': 3}, {'word': 'program', 'count': 3}, {'word': 'designed', 'count': 3}, {'word': 'service', 'count': 3}, {'word': 'supplement', 'count': 2}]\n",
      "[{'word': 'business', 'count': 16}, {'word': 'international', 'count': 8}, {'word': 'minor', 'count': 5}, {'word': 'school', 'count': 2}, {'word': 'leadership', 'count': 2}, {'word': 'majors', 'count': 2}, {'word': 'arena', 'count': 2}, {'word': 'globalization', 'count': 2}, {'word': 'learn', 'count': 2}, {'word': 'cultural', 'count': 2}]\n",
      "[{'word': 'business', 'count': 16}, {'word': 'international', 'count': 8}, {'word': 'minor', 'count': 5}, {'word': 'school', 'count': 2}, {'word': 'leadership', 'count': 2}, {'word': 'majors', 'count': 2}, {'word': 'arena', 'count': 2}, {'word': 'globalization', 'count': 2}, {'word': 'learn', 'count': 2}, {'word': 'cultural', 'count': 2}]\n",
      "[{'word': 'leadership', 'count': 11}, {'word': 'minor', 'count': 6}, {'word': 'program', 'count': 4}, {'word': 'christian', 'count': 3}, {'word': 'academic', 'count': 3}, {'word': 'principles', 'count': 3}, {'word': 'field', 'count': 3}, {'word': 'studies', 'count': 3}, {'word': 'realworld', 'count': 3}, {'word': 'theory', 'count': 3}]\n",
      "[{'word': 'arts', 'count': 8}, {'word': 'liberal', 'count': 6}, {'word': 'degree', 'count': 3}, {'word': 'major', 'count': 2}, {'word': 'christian', 'count': 2}, {'word': 'offer', 'count': 2}, {'word': 'education', 'count': 2}, {'word': 'program', 'count': 2}, {'word': 'learn', 'count': 2}, {'word': 'facts', 'count': 2}]\n",
      "[{'word': 'business', 'count': 9}, {'word': 'minor', 'count': 5}, {'word': 'management', 'count': 5}, {'word': 'nonbusiness', 'count': 2}, {'word': 'successful', 'count': 2}, {'word': 'core', 'count': 2}, {'word': 'well', 'count': 2}, {'word': 'aspects', 'count': 2}, {'word': 'leadership', 'count': 2}, {'word': 'dont', 'count': 2}]\n",
      "[{'word': 'business', 'count': 9}, {'word': 'minor', 'count': 5}, {'word': 'management', 'count': 5}, {'word': 'nonbusiness', 'count': 2}, {'word': 'successful', 'count': 2}, {'word': 'core', 'count': 2}, {'word': 'well', 'count': 2}, {'word': 'aspects', 'count': 2}, {'word': 'leadership', 'count': 2}, {'word': 'dont', 'count': 2}]\n",
      "[{'word': 'business', 'count': 5}, {'word': 'minor', 'count': 4}, {'word': 'marketing', 'count': 4}, {'word': 'product', 'count': 3}, {'word': 'market', 'count': 3}, {'word': 'school', 'count': 2}, {'word': 'leadership', 'count': 2}, {'word': 'majors', 'count': 2}, {'word': 'principles', 'count': 2}, {'word': 'behavior', 'count': 2}]\n",
      "[{'word': 'ministry', 'count': 9}, {'word': 'management', 'count': 6}, {'word': 'christian', 'count': 4}, {'word': 'biblical', 'count': 3}, {'word': 'leadership', 'count': 3}, {'word': 'church', 'count': 3}, {'word': 'degree', 'count': 3}, {'word': 'students', 'count': 3}, {'word': 'bachelor', 'count': 2}, {'word': 'arts', 'count': 2}]\n",
      "[{'word': 'ministry', 'count': 9}, {'word': 'management', 'count': 6}, {'word': 'christian', 'count': 4}, {'word': 'biblical', 'count': 3}, {'word': 'leadership', 'count': 3}, {'word': 'church', 'count': 3}, {'word': 'degree', 'count': 3}, {'word': 'students', 'count': 3}, {'word': 'bachelor', 'count': 2}, {'word': 'arts', 'count': 2}]\n",
      "[{'word': 'music', 'count': 19}, {'word': 'education', 'count': 9}, {'word': 'students', 'count': 4}, {'word': 'school', 'count': 4}, {'word': 'major', 'count': 3}, {'word': 'colorado', 'count': 3}, {'word': 'skills', 'count': 3}, {'word': 'bachelor', 'count': 2}, {'word': 'licensure', 'count': 2}, {'word': 'christian', 'count': 2}]\n",
      "[{'word': 'theatre', 'count': 8}, {'word': 'minor', 'count': 7}, {'word': 'music', 'count': 6}, {'word': 'performance', 'count': 4}, {'word': 'students', 'count': 4}, {'word': 'purpose', 'count': 3}, {'word': 'artistic', 'count': 3}, {'word': 'god', 'count': 3}, {'word': 'making', 'count': 2}, {'word': 'christian', 'count': 2}]\n",
      "[{'word': 'outdoor', 'count': 10}, {'word': 'leadership', 'count': 8}, {'word': 'people', 'count': 3}, {'word': 'god', 'count': 3}, {'word': 'skills', 'count': 3}, {'word': 'program', 'count': 2}, {'word': 'develop', 'count': 2}, {'word': 'others', 'count': 2}, {'word': 'minor', 'count': 2}, {'word': 'recreation', 'count': 2}]\n",
      "[{'word': 'outdoor', 'count': 10}, {'word': 'leadership', 'count': 8}, {'word': 'people', 'count': 3}, {'word': 'god', 'count': 3}, {'word': 'skills', 'count': 3}, {'word': 'program', 'count': 2}, {'word': 'develop', 'count': 2}, {'word': 'others', 'count': 2}, {'word': 'minor', 'count': 2}, {'word': 'recreation', 'count': 2}]\n",
      "[{'word': 'degree', 'count': 3}, {'word': 'engineering', 'count': 3}, {'word': 'science', 'count': 2}, {'word': 'students', 'count': 2}, {'word': 'associates', 'count': 1}, {'word': 'preengineering', 'count': 1}, {'word': 'ideal', 'count': 1}, {'word': 'desire', 'count': 1}, {'word': 'ccus', 'count': 1}, {'word': 'strong', 'count': 1}]\n",
      "[{'word': 'law', 'count': 9}, {'word': 'prelaw', 'count': 4}, {'word': 'undergraduate', 'count': 3}, {'word': 'minor', 'count': 3}, {'word': 'christian', 'count': 3}, {'word': 'school', 'count': 3}, {'word': 'study', 'count': 3}, {'word': 'programs', 'count': 2}, {'word': 'colorado', 'count': 2}, {'word': 'university', 'count': 2}]\n",
      "[{'word': 'students', 'count': 8}, {'word': 'premedical', 'count': 6}, {'word': 'medicine', 'count': 6}, {'word': 'school', 'count': 6}, {'word': 'program', 'count': 5}, {'word': 'profession', 'count': 4}, {'word': 'ccu', 'count': 4}, {'word': 'medical', 'count': 4}, {'word': 'graduate', 'count': 4}, {'word': 'also', 'count': 3}]\n",
      "[{'word': 'students', 'count': 8}, {'word': 'premedical', 'count': 6}, {'word': 'medicine', 'count': 6}, {'word': 'school', 'count': 6}, {'word': 'program', 'count': 5}, {'word': 'profession', 'count': 4}, {'word': 'ccu', 'count': 4}, {'word': 'medical', 'count': 4}, {'word': 'graduate', 'count': 4}, {'word': 'also', 'count': 3}]\n",
      "[{'word': 'relations', 'count': 5}, {'word': 'minor', 'count': 4}, {'word': 'public', 'count': 4}, {'word': 'students', 'count': 3}, {'word': 'success', 'count': 2}, {'word': 'communication', 'count': 2}, {'word': 'learn', 'count': 2}, {'word': 'social', 'count': 2}, {'word': 'j', 'count': 2}, {'word': 'heinz', 'count': 2}]\n",
      "[{'word': 'education', 'count': 11}, {'word': 'reading', 'count': 9}, {'word': 'minor', 'count': 6}, {'word': 'students', 'count': 3}, {'word': 'core', 'count': 3}, {'word': 'elementary', 'count': 2}, {'word': 'special', 'count': 2}, {'word': 'career', 'count': 2}, {'word': 'plan', 'count': 2}, {'word': 'licensure', 'count': 2}]\n",
      "[{'word': 'reading', 'count': 9}, {'word': 'literacy', 'count': 7}, {'word': 'education', 'count': 6}, {'word': 'emphasis', 'count': 5}, {'word': 'elementary', 'count': 3}, {'word': 'program', 'count': 3}, {'word': 'courses', 'count': 3}, {'word': 'awarded', 'count': 2}, {'word': 'special', 'count': 2}, {'word': 'youll', 'count': 2}]\n",
      "[{'word': 'science', 'count': 13}, {'word': 'scientific', 'count': 3}, {'word': 'earth', 'count': 2}, {'word': 'major', 'count': 2}, {'word': 'sciences', 'count': 2}, {'word': 'god', 'count': 2}, {'word': 'bachelor', 'count': 1}, {'word': 'scienceare', 'count': 1}, {'word': 'fascinated', 'count': 1}, {'word': 'thought', 'count': 1}]\n",
      "[{'word': 'education', 'count': 6}, {'word': 'licensure', 'count': 6}, {'word': 'teacher', 'count': 5}, {'word': 'teaching', 'count': 5}, {'word': 'christian', 'count': 4}, {'word': 'school', 'count': 4}, {'word': 'students', 'count': 3}, {'word': 'secondary', 'count': 3}, {'word': 'experience', 'count': 3}, {'word': 'ccu', 'count': 3}]\n",
      "[{'word': 'social', 'count': 8}, {'word': 'science', 'count': 6}, {'word': 'history', 'count': 4}, {'word': 'studies', 'count': 3}, {'word': 'degree', 'count': 3}, {'word': 'youll', 'count': 3}, {'word': 'global', 'count': 2}, {'word': 'major', 'count': 2}, {'word': 'school', 'count': 2}, {'word': 'better', 'count': 2}]\n",
      "[{'word': 'special', 'count': 8}, {'word': 'education', 'count': 8}, {'word': 'learning', 'count': 5}, {'word': 'arts', 'count': 3}, {'word': 'instruction', 'count': 3}, {'word': 'students', 'count': 3}, {'word': 'program', 'count': 3}, {'word': 'christian', 'count': 3}, {'word': 'liberal', 'count': 2}, {'word': 'individualized', 'count': 2}]\n"
     ]
    },
    {
     "name": "stdout",
     "output_type": "stream",
     "text": [
      "[{'word': 'teaching', 'count': 6}, {'word': 'learning', 'count': 6}, {'word': 'program', 'count': 6}, {'word': 'professional', 'count': 4}, {'word': 'students', 'count': 3}, {'word': 'education', 'count': 3}, {'word': 'ccu', 'count': 3}, {'word': 'bachelor', 'count': 2}, {'word': 'arts', 'count': 2}, {'word': 'available', 'count': 2}]\n",
      "[{'word': 'theatre', 'count': 7}, {'word': 'minor', 'count': 6}, {'word': 'music', 'count': 5}, {'word': 'school', 'count': 4}, {'word': 'students', 'count': 3}, {'word': 'acting', 'count': 3}, {'word': 'opportunity', 'count': 2}, {'word': 'pursue', 'count': 2}, {'word': 'major', 'count': 2}, {'word': 'provides', 'count': 2}]\n",
      "[{'word': 'degree', 'count': 8}, {'word': 'theology', 'count': 6}, {'word': 'dual', 'count': 4}, {'word': 'theological', 'count': 4}, {'word': 'youll', 'count': 4}, {'word': 'studies', 'count': 4}, {'word': 'arts', 'count': 3}, {'word': 'major', 'count': 3}, {'word': 'christian', 'count': 3}, {'word': 'students', 'count': 3}]\n",
      "[{'word': 'worship', 'count': 7}, {'word': 'music', 'count': 6}, {'word': 'arts', 'count': 4}, {'word': 'program', 'count': 3}, {'word': 'bachelor', 'count': 2}, {'word': 'ministry', 'count': 2}, {'word': 'particular', 'count': 2}, {'word': 'word', 'count': 2}, {'word': 'god', 'count': 2}, {'word': 'gift', 'count': 2}]\n",
      "[{'word': 'life', 'count': 13}, {'word': 'young', 'count': 9}, {'word': 'ministry', 'count': 5}, {'word': 'minor', 'count': 4}, {'word': 'leadership', 'count': 4}, {'word': 'kids', 'count': 3}, {'word': 'take', 'count': 3}, {'word': 'area', 'count': 3}, {'word': 'christian', 'count': 2}, {'word': 'school', 'count': 2}]\n",
      "[{'word': 'youth', 'count': 12}, {'word': 'ministry', 'count': 8}, {'word': 'degree', 'count': 3}, {'word': 'biblical', 'count': 3}, {'word': 'time', 'count': 3}, {'word': 'youll', 'count': 3}, {'word': 'ccus', 'count': 3}, {'word': 'programs', 'count': 2}, {'word': 'program', 'count': 2}, {'word': 'new', 'count': 2}]\n"
     ]
    }
   ],
   "source": [
    "webpage_info = []\n",
    "\n",
    "for u in program_urls:\n",
    "    page_dict = {}\n",
    "    program_link = u.get('href')\n",
    "    program_url_full = f'https://www.ccu.edu/undergrad/{program_link}'\n",
    "    browser.visit(program_url_full)\n",
    "    page_html = browser.html\n",
    "    page_soup = bs(page_html, 'html.parser')\n",
    "    page_title = page_soup.find('title').text\n",
    "    page_h1 = page_soup.find('h1').text\n",
    "    page_paras = page_soup.select('div.expandable--content')\n",
    "    page_text = []\n",
    "    for p in page_paras:\n",
    "        page_text.append(p.text)\n",
    "        clean_paras = clean(page_text, no_punct=True)\n",
    "        tokens = [t for t in clean_paras.split()]\n",
    "        clean_tokens = tokens[:]\n",
    "        for token in tokens:\n",
    "            if token in stopwords.words('english'):\n",
    "                clean_tokens.remove(token)\n",
    "        freq = nltk.FreqDist(clean_tokens)\n",
    "        freq_words = []\n",
    "        for key,val in freq.most_common(10):\n",
    "            words_dict = {}\n",
    "            words_dict[\"word\"] = key\n",
    "            words_dict[\"count\"] = val\n",
    "            freq_words.append(words_dict) \n",
    "    print(freq_words)\n",
    "    \n",
    "#     page_dict['page_title'] = page_title\n",
    "#     page_dict['page_h1'] = page_h1\n",
    "#     page_dict['page_paras'] = \n",
    "\n",
    "#     webpage_info.append(page_dict)\n",
    "    "
   ]
  },
  {
   "cell_type": "code",
   "execution_count": null,
   "metadata": {},
   "outputs": [],
   "source": []
  },
  {
   "cell_type": "code",
   "execution_count": null,
   "metadata": {},
   "outputs": [],
   "source": []
  },
  {
   "cell_type": "code",
   "execution_count": null,
   "metadata": {},
   "outputs": [],
   "source": []
  },
  {
   "cell_type": "code",
   "execution_count": null,
   "metadata": {},
   "outputs": [],
   "source": []
  },
  {
   "cell_type": "code",
   "execution_count": null,
   "metadata": {},
   "outputs": [],
   "source": []
  },
  {
   "cell_type": "code",
   "execution_count": null,
   "metadata": {},
   "outputs": [],
   "source": []
  },
  {
   "cell_type": "code",
   "execution_count": null,
   "metadata": {},
   "outputs": [],
   "source": []
  },
  {
   "cell_type": "code",
   "execution_count": null,
   "metadata": {},
   "outputs": [],
   "source": []
  },
  {
   "cell_type": "code",
   "execution_count": null,
   "metadata": {},
   "outputs": [],
   "source": []
  },
  {
   "cell_type": "code",
   "execution_count": null,
   "metadata": {},
   "outputs": [],
   "source": []
  },
  {
   "cell_type": "code",
   "execution_count": null,
   "metadata": {},
   "outputs": [],
   "source": [
    "freq = nltk.FreqDist(clean_tokens)"
   ]
  },
  {
   "cell_type": "code",
   "execution_count": null,
   "metadata": {},
   "outputs": [],
   "source": [
    "freq.most_common(10)"
   ]
  },
  {
   "cell_type": "code",
   "execution_count": null,
   "metadata": {},
   "outputs": [],
   "source": [
    "freq_words = []\n",
    "for key,val in freq.most_common(10):\n",
    "    words_dict = {}\n",
    "    words_dict[\"word\"] = key\n",
    "    words_dict[\"count\"] = val\n",
    "    freq_words.append(words_dict)"
   ]
  },
  {
   "cell_type": "code",
   "execution_count": null,
   "metadata": {},
   "outputs": [],
   "source": [
    "freq_words"
   ]
  },
  {
   "cell_type": "code",
   "execution_count": null,
   "metadata": {},
   "outputs": [],
   "source": []
  },
  {
   "cell_type": "code",
   "execution_count": null,
   "metadata": {},
   "outputs": [],
   "source": [
    "clean_tokens = tokens[:]"
   ]
  },
  {
   "cell_type": "code",
   "execution_count": null,
   "metadata": {},
   "outputs": [],
   "source": [
    "for token in tokens:\n",
    "    if token in stopwords.words('english'):\n",
    "        clean_tokens.remove(token)"
   ]
  },
  {
   "cell_type": "code",
   "execution_count": null,
   "metadata": {},
   "outputs": [],
   "source": [
    "clean_tokens"
   ]
  },
  {
   "cell_type": "code",
   "execution_count": null,
   "metadata": {},
   "outputs": [],
   "source": []
  },
  {
   "cell_type": "code",
   "execution_count": null,
   "metadata": {},
   "outputs": [],
   "source": [
    "for p in page_text:\n",
    "    clean(page_text, no_punct=True)\n",
    "    print(p)"
   ]
  },
  {
   "cell_type": "code",
   "execution_count": null,
   "metadata": {},
   "outputs": [],
   "source": [
    "page_info = {}"
   ]
  },
  {
   "cell_type": "code",
   "execution_count": null,
   "metadata": {},
   "outputs": [],
   "source": [
    "page_info[\"page_title\"] = page_title\n",
    "page_info[\"page_h1\"] = page_h1\n",
    "page_info[\"page_text\"] = page_text"
   ]
  },
  {
   "cell_type": "code",
   "execution_count": null,
   "metadata": {},
   "outputs": [],
   "source": [
    "page_info"
   ]
  },
  {
   "cell_type": "code",
   "execution_count": null,
   "metadata": {},
   "outputs": [],
   "source": [
    "from cleantext import clean"
   ]
  },
  {
   "cell_type": "code",
   "execution_count": null,
   "metadata": {},
   "outputs": [],
   "source": [
    "p_text = clean(p.text, no_punct=True)"
   ]
  },
  {
   "cell_type": "code",
   "execution_count": null,
   "metadata": {},
   "outputs": [],
   "source": [
    "p_text"
   ]
  },
  {
   "cell_type": "code",
   "execution_count": null,
   "metadata": {},
   "outputs": [],
   "source": [
    "tokens = [t for t in p_text.split()]"
   ]
  },
  {
   "cell_type": "code",
   "execution_count": null,
   "metadata": {},
   "outputs": [],
   "source": [
    "token_text = []\n",
    "\n",
    "tokens"
   ]
  },
  {
   "cell_type": "code",
   "execution_count": null,
   "metadata": {},
   "outputs": [],
   "source": []
  },
  {
   "cell_type": "code",
   "execution_count": null,
   "metadata": {},
   "outputs": [],
   "source": []
  },
  {
   "cell_type": "code",
   "execution_count": null,
   "metadata": {},
   "outputs": [],
   "source": [
    "clean_page_text = []\n",
    "\n",
    "for p in page_text:\n",
    "    p_text = clean(p.text, no_punct=True)\n",
    "    tokens = [t for t in p_text.split()]\n",
    "    clean_page_text.append(tokens)"
   ]
  },
  {
   "cell_type": "code",
   "execution_count": null,
   "metadata": {},
   "outputs": [],
   "source": [
    "browser.quit()"
   ]
  },
  {
   "cell_type": "code",
   "execution_count": null,
   "metadata": {},
   "outputs": [],
   "source": []
  }
 ],
 "metadata": {
  "kernelspec": {
   "display_name": "Python 3",
   "language": "python",
   "name": "python3"
  },
  "language_info": {
   "codemirror_mode": {
    "name": "ipython",
    "version": 3
   },
   "file_extension": ".py",
   "mimetype": "text/x-python",
   "name": "python",
   "nbconvert_exporter": "python",
   "pygments_lexer": "ipython3",
   "version": "3.7.8"
  }
 },
 "nbformat": 4,
 "nbformat_minor": 4
}

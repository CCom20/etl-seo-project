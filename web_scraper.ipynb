{
 "cells": [
  {
   "cell_type": "code",
   "execution_count": 3,
   "metadata": {},
   "outputs": [],
   "source": [
    "import requests\n",
    "import pandas as pd\n",
    "import nltk\n",
    "from bs4 import BeautifulSoup as bs\n",
    "from splinter import Browser\n",
    "from webdriver_manager.chrome import ChromeDriverManager\n",
    "import time"
   ]
  },
  {
   "cell_type": "code",
   "execution_count": 2,
   "metadata": {},
   "outputs": [
    {
     "name": "stderr",
     "output_type": "stream",
     "text": [
      "[WDM] - Current google-chrome version is 86.0.4240\n",
      "[WDM] - Get LATEST driver version for 86.0.4240\n",
      "[WDM] - Driver [C:\\Users\\coled\\.wdm\\drivers\\chromedriver\\win32\\86.0.4240.22\\chromedriver.exe] found in cache\n"
     ]
    },
    {
     "name": "stdout",
     "output_type": "stream",
     "text": [
      " \n"
     ]
    }
   ],
   "source": [
    "executable_path = {'executable_path': ChromeDriverManager().install()}\n",
    "browser = Browser('chrome', **executable_path, headless=False)\n",
    "\n",
    "main_url = 'https://www.ccu.edu/undergrad/'\n",
    "\n",
    "browser.visit(main_url)"
   ]
  },
  {
   "cell_type": "code",
   "execution_count": 4,
   "metadata": {},
   "outputs": [],
   "source": [
    "html = browser.html"
   ]
  },
  {
   "cell_type": "code",
   "execution_count": 5,
   "metadata": {},
   "outputs": [],
   "source": [
    "program_soup = bs(html, 'lxml')"
   ]
  },
  {
   "cell_type": "code",
   "execution_count": 6,
   "metadata": {},
   "outputs": [],
   "source": [
    "program_urls = program_soup.select('li a.uk-panel')"
   ]
  },
  {
   "cell_type": "code",
   "execution_count": 7,
   "metadata": {},
   "outputs": [
    {
     "data": {
      "text/plain": [
       "[<a class=\"uk-panel\" href=\"accounting/\"><span class=\"uk-margin-right\">Accounting</span> <span class=\"uk-badge uk-badge-notification uk-float-right uk-margin-small-left\">m</span> <span class=\"uk-badge uk-badge-warning uk-badge-notification uk-float-right uk-margin-small-left\">M</span></a>,\n",
       " <a class=\"uk-panel\" href=\"honors-liberal-arts/\"><span class=\"uk-margin-right\">Augustine Honors</span> <span class=\"uk-badge uk-badge-danger uk-badge-notification uk-float-right uk-margin-small-left\">E</span> <span class=\"uk-badge uk-badge-notification uk-float-right uk-margin-small-left\">m</span></a>,\n",
       " <a class=\"uk-panel\" href=\"biblical-studies/\"><span class=\"uk-margin-right\">Biblical Studies with Languages</span> <span class=\"uk-badge uk-badge-success uk-badge-notification uk-float-right uk-margin-small-left\">D</span> <span class=\"uk-badge uk-badge-notification uk-float-right uk-margin-small-left\">m</span> <span class=\"uk-badge uk-badge-warning uk-badge-notification uk-float-right uk-margin-small-left\">M</span></a>,\n",
       " <a class=\"uk-panel\" href=\"biology/\"><span class=\"uk-margin-right\">Biology</span> <span class=\"uk-badge uk-badge-notification uk-float-right uk-margin-small-left\">m</span> <span class=\"uk-badge uk-badge-warning uk-badge-notification uk-float-right uk-margin-small-left\">M</span></a>,\n",
       " <a class=\"uk-panel\" href=\"business-minor/\"><span class=\"uk-margin-right\">Business</span> <span class=\"uk-badge uk-badge-notification uk-float-right uk-margin-small-left\">m</span></a>,\n",
       " <a class=\"uk-panel\" href=\"business-administration/\"><span class=\"uk-margin-right\">Business Administration</span> <span class=\"uk-badge uk-badge-warning uk-badge-notification uk-float-right uk-margin-small-left\">M</span></a>,\n",
       " <a class=\"uk-panel\" href=\"camp-management/\"><span class=\"uk-margin-right\">Camp Management</span> <span class=\"uk-badge uk-badge-notification uk-float-right uk-margin-small-left\">m</span></a>,\n",
       " <a class=\"uk-panel\" href=\"chemistry/\"><span class=\"uk-margin-right\">Chemistry</span> <span class=\"uk-badge uk-badge-notification uk-float-right uk-margin-small-left\">m</span></a>,\n",
       " <a class=\"uk-panel\" href=\"church-history/\"><span class=\"uk-margin-right\">Church History</span> <span class=\"uk-badge uk-badge-notification uk-float-right uk-margin-small-left\">m</span></a>,\n",
       " <a class=\"uk-panel\" href=\"communication/\"><span class=\"uk-margin-right\">Communication and Rhetoric</span> <span class=\"uk-badge uk-badge-notification uk-float-right uk-margin-small-left\">m</span> <span class=\"uk-badge uk-badge-warning uk-badge-notification uk-float-right uk-margin-small-left\">M</span></a>,\n",
       " <a class=\"uk-panel\" href=\"strategic-communication/\"><span class=\"uk-margin-right\">Communication (Strategic)</span> <span class=\"uk-badge uk-badge-warning uk-badge-notification uk-float-right uk-margin-small-left\">M</span></a>,\n",
       " <a class=\"uk-panel\" href=\"computer-information-systems/\"><span class=\"uk-margin-right\">Computer Information Systems</span> <span class=\"uk-badge uk-badge-notification uk-float-right uk-margin-small-left\">m</span> <span class=\"uk-badge uk-badge-warning uk-badge-notification uk-float-right uk-margin-small-left\">M</span></a>,\n",
       " <a class=\"uk-panel\" href=\"cpa-licensure/\"><span class=\"uk-margin-right\">CPA Licensure</span> <span class=\"uk-badge uk-badge-notification uk-float-right uk-margin-small-left\">m</span></a>,\n",
       " <a class=\"uk-panel\" href=\"creative-writing/\"><span class=\"uk-margin-right\">Creative Writing</span> <span class=\"uk-badge uk-badge-notification uk-float-right uk-margin-small-left\">m</span></a>,\n",
       " <a class=\"uk-panel\" href=\"criminal-justice/\"><span class=\"uk-margin-right\">Criminal Justice Law &amp; Practice</span> <span class=\"uk-badge uk-badge-warning uk-badge-notification uk-float-right uk-margin-small-left\">M</span></a>,\n",
       " <a class=\"uk-panel\" href=\"digital-media-minor/\"><span class=\"uk-margin-right\">Digital Media</span> <span class=\"uk-badge uk-badge-notification uk-float-right uk-margin-small-left\">m</span></a>,\n",
       " <a class=\"uk-panel\" href=\"economics/\"><span class=\"uk-margin-right\">Economics</span> <span class=\"uk-badge uk-badge-notification uk-float-right uk-margin-small-left\">m</span></a>,\n",
       " <a class=\"uk-panel\" href=\"education-minor/\"><span class=\"uk-margin-right\">Education</span> <span class=\"uk-badge uk-badge-notification uk-float-right uk-margin-small-left\">m</span></a>,\n",
       " <a class=\"uk-panel\" href=\"elementary-education/\"><span class=\"uk-margin-right\">Elementary Education</span> <span class=\"uk-badge uk-badge-warning uk-badge-notification uk-float-right uk-margin-small-left\">M</span></a>,\n",
       " <a class=\"uk-panel\" href=\"industrial-engineering/\"><span class=\"uk-margin-right\">Engineering, Industrial and Systems</span> <span class=\"uk-badge uk-badge-warning uk-badge-notification uk-float-right uk-margin-small-left\">M</span></a>,\n",
       " <a class=\"uk-panel\" href=\"english/\" title=\"Bachelor of Arts in English\"><span class=\"uk-margin-right\">English</span> <span class=\"uk-badge uk-badge-danger uk-badge-notification uk-float-right uk-margin-small-left\">E</span> <span class=\"uk-badge uk-badge-notification uk-float-right uk-margin-small-left\">m</span> <span class=\"uk-badge uk-badge-warning uk-badge-notification uk-float-right uk-margin-small-left\">M</span></a>,\n",
       " <a class=\"uk-panel\" href=\"finance/\"><span class=\"uk-margin-right\">Finance</span> <span class=\"uk-badge uk-badge-notification uk-float-right uk-margin-small-left\">m</span></a>,\n",
       " <a class=\"uk-panel\" href=\"global-studies/\"><span class=\"uk-margin-right\">Global Studies</span> <span class=\"uk-badge uk-badge-notification uk-float-right uk-margin-small-left\">m</span> <span class=\"uk-badge uk-badge-warning uk-badge-notification uk-float-right uk-margin-small-left\">M</span></a>,\n",
       " <a class=\"uk-panel\" href=\"health-sciences/\"><span class=\"uk-margin-right\">Health Sciences</span> <span class=\"uk-badge uk-badge-warning uk-badge-notification uk-float-right uk-margin-small-left\">M</span></a>,\n",
       " <a class=\"uk-panel\" href=\"history/\"><span class=\"uk-margin-right\">History</span> <span class=\"uk-badge uk-badge-notification uk-float-right uk-margin-small-left\">m</span> <span class=\"uk-badge uk-badge-warning uk-badge-notification uk-float-right uk-margin-small-left\">M</span></a>,\n",
       " <a class=\"uk-panel\" href=\"intercultural-ministry/\"><span class=\"uk-margin-right\">Intercultural Ministry</span> <span class=\"uk-badge uk-badge-notification uk-float-right uk-margin-small-left\">m</span></a>,\n",
       " <a class=\"uk-panel\" href=\"international-business/\"><span class=\"uk-margin-right\">International Business</span> <span class=\"uk-badge uk-badge-notification uk-float-right uk-margin-small-left\">m</span></a>,\n",
       " <a class=\"uk-panel\" href=\"kinesiology-exercise-science/\"><span class=\"uk-margin-right\">Kinesiology and Exercise Science</span> <span class=\"uk-badge uk-badge-warning uk-badge-notification uk-float-right uk-margin-small-left\">M</span></a>,\n",
       " <a class=\"uk-panel\" href=\"leadership-studies/\"><span class=\"uk-margin-right\">Leadership</span> <span class=\"uk-badge uk-badge-danger uk-badge-notification uk-float-right uk-margin-small-left\">E</span> <span class=\"uk-badge uk-badge-notification uk-float-right uk-margin-small-left\">m</span></a>,\n",
       " <a class=\"uk-panel\" href=\"liberal-arts/\"><span class=\"uk-margin-right\">Liberal Arts</span> <span class=\"uk-badge uk-badge-warning uk-badge-notification uk-float-right uk-margin-small-left\">M</span></a>,\n",
       " <a class=\"uk-panel\" href=\"management/\"><span class=\"uk-margin-right\">Management</span> <span class=\"uk-badge uk-badge-danger uk-badge-notification uk-float-right uk-margin-small-left\">E</span> <span class=\"uk-badge uk-badge-notification uk-float-right uk-margin-small-left\">m</span></a>,\n",
       " <a class=\"uk-panel\" href=\"math-minor/\"><span class=\"uk-margin-right\">Mathematics</span> <span class=\"uk-badge uk-badge-notification uk-float-right uk-margin-small-left\">m</span></a>,\n",
       " <a class=\"uk-panel\" href=\"marketing/\"><span class=\"uk-margin-right\">Marketing</span> <span class=\"uk-badge uk-badge-notification uk-float-right uk-margin-small-left\">m</span></a>,\n",
       " <a class=\"uk-panel\" href=\"ministry-management/\"><span class=\"uk-margin-right\">Ministry Management</span> <span class=\"uk-badge uk-badge-warning uk-badge-notification uk-float-right uk-margin-small-left\">M</span></a>,\n",
       " <a class=\"uk-panel\" href=\"music/\"><span class=\"uk-margin-right\">Music</span> <span class=\"uk-badge uk-badge-notification uk-float-right uk-margin-small-left\">m</span> <span class=\"uk-badge uk-badge-warning uk-badge-notification uk-float-right uk-margin-small-left\">M</span></a>,\n",
       " <a class=\"uk-panel\" href=\"music-education/\"><span class=\"uk-margin-right\">Music Education</span> <span class=\"uk-badge uk-badge-warning uk-badge-notification uk-float-right uk-margin-small-left\">M</span></a>,\n",
       " <a class=\"uk-panel\" href=\"music-theatre/\"><span class=\"uk-margin-right\">Music Theatre</span> <span class=\"uk-badge uk-badge-notification uk-float-right uk-margin-small-left\">m</span></a>,\n",
       " <a class=\"uk-panel\" href=\"outdoor-leadership/\"><span class=\"uk-margin-right\">Outdoor Leadership</span> <span class=\"uk-badge uk-badge-notification uk-float-right uk-margin-small-left\">m</span> <span class=\"uk-badge uk-badge-warning uk-badge-notification uk-float-right uk-margin-small-left\">M</span></a>,\n",
       " <a class=\"uk-panel\" href=\"politics/\"><span class=\"uk-margin-right\">Politics</span> <span class=\"uk-badge uk-badge-notification uk-float-right uk-margin-small-left\">m</span> <span class=\"uk-badge uk-badge-warning uk-badge-notification uk-float-right uk-margin-small-left\">M</span></a>,\n",
       " <a class=\"uk-panel\" href=\"pre-engineering/\"><span class=\"uk-margin-right\">Pre-Engineering</span> <span class=\"uk-badge uk-badge-warning uk-badge-notification uk-float-right uk-margin-small-left\">M</span></a>,\n",
       " <a class=\"uk-panel\" href=\"pre-law/\"><span class=\"uk-margin-right\">Pre-Law</span> <span class=\"uk-badge uk-badge-danger uk-badge-notification uk-float-right uk-margin-small-left\">E</span> <span class=\"uk-badge uk-badge-notification uk-float-right uk-margin-small-left\">m</span></a>,\n",
       " <a class=\"uk-panel\" href=\"pre-medicine/\"><span class=\"uk-margin-right\">Pre-Med</span> <span class=\"uk-badge uk-badge-warning uk-badge-notification uk-float-right uk-margin-small-left\">M</span></a>,\n",
       " <a class=\"uk-panel\" href=\"psychology/\"><span class=\"uk-margin-right\">Psychology</span> <span class=\"uk-badge uk-badge-success uk-badge-notification uk-float-right uk-margin-small-left\">D</span> <span class=\"uk-badge uk-badge-notification uk-float-right uk-margin-small-left\">m</span> <span class=\"uk-badge uk-badge-warning uk-badge-notification uk-float-right uk-margin-small-left\">M</span></a>,\n",
       " <a class=\"uk-panel\" href=\"public-relations-minor/\"><span class=\"uk-margin-right\">Public Relations</span> <span class=\"uk-badge uk-badge-notification uk-float-right uk-margin-small-left\">m</span></a>,\n",
       " <a class=\"uk-panel\" href=\"reading-education/\"><span class=\"uk-margin-right\">Reading Education</span> <span class=\"uk-badge uk-badge-notification uk-float-right uk-margin-small-left\">m</span></a>,\n",
       " <a class=\"uk-panel\" href=\"reading-literacy/\"><span class=\"uk-margin-right\">Reading Literacy</span> <span class=\"uk-badge uk-badge-danger uk-badge-notification uk-float-right uk-margin-small-left\">E</span></a>,\n",
       " <a class=\"uk-panel\" href=\"science/\"><span class=\"uk-margin-right\">Science</span> <span class=\"uk-badge uk-badge-warning uk-badge-notification uk-float-right uk-margin-small-left\">M</span></a>,\n",
       " <a class=\"uk-panel\" href=\"secondary-education/\"><span class=\"uk-margin-right\">Secondary Education</span> <span class=\"uk-badge uk-badge-warning uk-badge-notification uk-float-right uk-margin-small-left\">M</span></a>,\n",
       " <a class=\"uk-panel\" href=\"social-science/\"><span class=\"uk-margin-right\">Social Science</span> <span class=\"uk-badge uk-badge-warning uk-badge-notification uk-float-right uk-margin-small-left\">M</span></a>,\n",
       " <a class=\"uk-panel\" href=\"special-education/\"><span class=\"uk-margin-right\">Special Education</span> <span class=\"uk-badge uk-badge-notification uk-float-right uk-margin-small-left\">m</span> <span class=\"uk-badge uk-badge-warning uk-badge-notification uk-float-right uk-margin-small-left\">M</span></a>,\n",
       " <a class=\"uk-panel\" href=\"teaching-and-learning/\"><span class=\"uk-margin-right\">Teaching and Learning</span> <span class=\"uk-badge uk-badge-warning uk-badge-notification uk-float-right uk-margin-small-left\">M</span></a>,\n",
       " <a class=\"uk-panel\" href=\"theatre/\"><span class=\"uk-margin-right\">Theatre</span> <span class=\"uk-badge uk-badge-notification uk-float-right uk-margin-small-left\">m</span></a>,\n",
       " <a class=\"uk-panel\" href=\"theology/\"><span class=\"uk-margin-right\">Theology</span> <span class=\"uk-badge uk-badge-success uk-badge-notification uk-float-right uk-margin-small-left\">D</span> <span class=\"uk-badge uk-badge-notification uk-float-right uk-margin-small-left\">m</span> <span class=\"uk-badge uk-badge-warning uk-badge-notification uk-float-right uk-margin-small-left\">M</span></a>,\n",
       " <a class=\"uk-panel\" href=\"worship-arts/\"><span class=\"uk-margin-right\">Worship Arts</span> <span class=\"uk-badge uk-badge-warning uk-badge-notification uk-float-right uk-margin-small-left\">M</span></a>,\n",
       " <a class=\"uk-panel\" href=\"young-life-leadership/\"><span class=\"uk-margin-right\">Young Life Leadership</span> <span class=\"uk-badge uk-badge-notification uk-float-right uk-margin-small-left\">m</span></a>,\n",
       " <a class=\"uk-panel\" href=\"youth-ministry/\"><span class=\"uk-margin-right\">Youth Ministry</span> <span class=\"uk-badge uk-badge-notification uk-float-right uk-margin-small-left\">m</span> <span class=\"uk-badge uk-badge-warning uk-badge-notification uk-float-right uk-margin-small-left\">M</span></a>]"
      ]
     },
     "execution_count": 7,
     "metadata": {},
     "output_type": "execute_result"
    }
   ],
   "source": [
    "program_urls"
   ]
  },
  {
   "cell_type": "code",
   "execution_count": 12,
   "metadata": {},
   "outputs": [],
   "source": [
    "list_urls = []\n",
    "\n",
    "for u in program_urls:\n",
    "    program_link = u.get('href')\n",
    "    program_url_full = f'https://www.ccu.edu/undergrad/{program_link}'\n",
    "    browser.visit(program_url_full)\n",
    "    page_html = browser.html\n",
    "    page_soup = bs(html, 'html.parser')\n",
    "    page_title = page_soup.find('title').text\n",
    "    \n",
    "    "
   ]
  },
  {
   "cell_type": "code",
   "execution_count": null,
   "metadata": {},
   "outputs": [],
   "source": []
  },
  {
   "cell_type": "code",
   "execution_count": null,
   "metadata": {},
   "outputs": [],
   "source": []
  },
  {
   "cell_type": "code",
   "execution_count": null,
   "metadata": {},
   "outputs": [],
   "source": []
  },
  {
   "cell_type": "code",
   "execution_count": null,
   "metadata": {},
   "outputs": [],
   "source": []
  },
  {
   "cell_type": "code",
   "execution_count": null,
   "metadata": {},
   "outputs": [],
   "source": []
  },
  {
   "cell_type": "code",
   "execution_count": null,
   "metadata": {},
   "outputs": [],
   "source": [
    "page_h1 = page_soup.find('h1').text\n",
    "page_h1"
   ]
  },
  {
   "cell_type": "code",
   "execution_count": null,
   "metadata": {},
   "outputs": [],
   "source": [
    "page_paras = page_soup.select('p')\n",
    "page_paras\n",
    "\n",
    "page_text = []\n",
    "\n",
    "for p in page_paras:\n",
    "    page_text.append(p.text)\n",
    "    \n",
    "page_text"
   ]
  },
  {
   "cell_type": "code",
   "execution_count": null,
   "metadata": {},
   "outputs": [],
   "source": [
    "from cleantext import clean"
   ]
  },
  {
   "cell_type": "code",
   "execution_count": null,
   "metadata": {},
   "outputs": [],
   "source": [
    "clean_paras = clean(page_text, no_punct=True)"
   ]
  },
  {
   "cell_type": "code",
   "execution_count": null,
   "metadata": {},
   "outputs": [],
   "source": []
  },
  {
   "cell_type": "code",
   "execution_count": null,
   "metadata": {},
   "outputs": [],
   "source": [
    "clean_paras"
   ]
  },
  {
   "cell_type": "code",
   "execution_count": null,
   "metadata": {},
   "outputs": [],
   "source": [
    "tokens = [t for t in clean_paras.split()]"
   ]
  },
  {
   "cell_type": "code",
   "execution_count": null,
   "metadata": {},
   "outputs": [],
   "source": [
    "tokens"
   ]
  },
  {
   "cell_type": "code",
   "execution_count": null,
   "metadata": {},
   "outputs": [],
   "source": [
    "from nltk.corpus import stopwords"
   ]
  },
  {
   "cell_type": "code",
   "execution_count": null,
   "metadata": {},
   "outputs": [],
   "source": [
    "sr= stopwords.words('english')"
   ]
  },
  {
   "cell_type": "code",
   "execution_count": null,
   "metadata": {},
   "outputs": [],
   "source": [
    "clean_tokens = tokens[:]"
   ]
  },
  {
   "cell_type": "code",
   "execution_count": null,
   "metadata": {},
   "outputs": [],
   "source": [
    "for token in tokens:\n",
    "    if token in stopwords.words('english'):\n",
    "        clean_tokens.remove(token)"
   ]
  },
  {
   "cell_type": "code",
   "execution_count": null,
   "metadata": {},
   "outputs": [],
   "source": [
    "clean_tokens"
   ]
  },
  {
   "cell_type": "code",
   "execution_count": null,
   "metadata": {},
   "outputs": [],
   "source": [
    "len(tokens)"
   ]
  },
  {
   "cell_type": "code",
   "execution_count": null,
   "metadata": {},
   "outputs": [],
   "source": [
    "len(clean_tokens)"
   ]
  },
  {
   "cell_type": "code",
   "execution_count": null,
   "metadata": {},
   "outputs": [],
   "source": [
    "freq = nltk.FreqDist(clean_tokens)"
   ]
  },
  {
   "cell_type": "code",
   "execution_count": null,
   "metadata": {},
   "outputs": [],
   "source": [
    "freq.most_common(10)"
   ]
  },
  {
   "cell_type": "code",
   "execution_count": null,
   "metadata": {},
   "outputs": [],
   "source": [
    "freq_words = []\n",
    "for key,val in freq.most_common(10):\n",
    "    words_dict = {}\n",
    "    words_dict[\"word\"] = key\n",
    "    words_dict[\"count\"] = val\n",
    "    freq_words.append(words_dict)"
   ]
  },
  {
   "cell_type": "code",
   "execution_count": null,
   "metadata": {},
   "outputs": [],
   "source": [
    "freq_words"
   ]
  },
  {
   "cell_type": "code",
   "execution_count": null,
   "metadata": {},
   "outputs": [],
   "source": []
  },
  {
   "cell_type": "code",
   "execution_count": null,
   "metadata": {},
   "outputs": [],
   "source": [
    "clean_tokens = tokens[:]"
   ]
  },
  {
   "cell_type": "code",
   "execution_count": null,
   "metadata": {},
   "outputs": [],
   "source": [
    "for token in tokens:\n",
    "    if token in stopwords.words('english'):\n",
    "        clean_tokens.remove(token)"
   ]
  },
  {
   "cell_type": "code",
   "execution_count": null,
   "metadata": {},
   "outputs": [],
   "source": [
    "clean_tokens"
   ]
  },
  {
   "cell_type": "code",
   "execution_count": null,
   "metadata": {},
   "outputs": [],
   "source": []
  },
  {
   "cell_type": "code",
   "execution_count": null,
   "metadata": {},
   "outputs": [],
   "source": [
    "for p in page_text:\n",
    "    clean(page_text, no_punct=True)\n",
    "    print(p)"
   ]
  },
  {
   "cell_type": "code",
   "execution_count": null,
   "metadata": {},
   "outputs": [],
   "source": [
    "page_info = {}"
   ]
  },
  {
   "cell_type": "code",
   "execution_count": null,
   "metadata": {},
   "outputs": [],
   "source": [
    "page_info[\"page_title\"] = page_title\n",
    "page_info[\"page_h1\"] = page_h1\n",
    "page_info[\"page_text\"] = page_text"
   ]
  },
  {
   "cell_type": "code",
   "execution_count": null,
   "metadata": {},
   "outputs": [],
   "source": [
    "page_info"
   ]
  },
  {
   "cell_type": "code",
   "execution_count": null,
   "metadata": {},
   "outputs": [],
   "source": [
    "from cleantext import clean"
   ]
  },
  {
   "cell_type": "code",
   "execution_count": null,
   "metadata": {},
   "outputs": [],
   "source": [
    "p_text = clean(p.text, no_punct=True)"
   ]
  },
  {
   "cell_type": "code",
   "execution_count": null,
   "metadata": {},
   "outputs": [],
   "source": [
    "p_text"
   ]
  },
  {
   "cell_type": "code",
   "execution_count": null,
   "metadata": {},
   "outputs": [],
   "source": [
    "tokens = [t for t in p_text.split()]"
   ]
  },
  {
   "cell_type": "code",
   "execution_count": null,
   "metadata": {},
   "outputs": [],
   "source": [
    "token_text = []\n",
    "\n",
    "tokens"
   ]
  },
  {
   "cell_type": "code",
   "execution_count": null,
   "metadata": {},
   "outputs": [],
   "source": []
  },
  {
   "cell_type": "code",
   "execution_count": null,
   "metadata": {},
   "outputs": [],
   "source": []
  },
  {
   "cell_type": "code",
   "execution_count": null,
   "metadata": {},
   "outputs": [],
   "source": [
    "clean_page_text = []\n",
    "\n",
    "for p in page_text:\n",
    "    p_text = clean(p.text, no_punct=True)\n",
    "    tokens = [t for t in p_text.split()]\n",
    "    clean_page_text.append(tokens)"
   ]
  },
  {
   "cell_type": "code",
   "execution_count": null,
   "metadata": {},
   "outputs": [],
   "source": [
    "browser.quit()"
   ]
  },
  {
   "cell_type": "code",
   "execution_count": null,
   "metadata": {},
   "outputs": [],
   "source": []
  }
 ],
 "metadata": {
  "kernelspec": {
   "display_name": "Python 3",
   "language": "python",
   "name": "python3"
  },
  "language_info": {
   "codemirror_mode": {
    "name": "ipython",
    "version": 3
   },
   "file_extension": ".py",
   "mimetype": "text/x-python",
   "name": "python",
   "nbconvert_exporter": "python",
   "pygments_lexer": "ipython3",
   "version": "3.7.8"
  }
 },
 "nbformat": 4,
 "nbformat_minor": 4
}

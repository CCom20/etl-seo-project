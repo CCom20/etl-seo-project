{
 "cells": [
  {
   "cell_type": "code",
   "execution_count": 1,
   "metadata": {},
   "outputs": [],
   "source": [
    "import requests\n",
    "from cleantext import clean\n",
    "from nltk.corpus import stopwords\n",
    "import pandas as pd\n",
    "import nltk\n",
    "from bs4 import BeautifulSoup as bs\n",
    "from splinter import Browser\n",
    "from webdriver_manager.chrome import ChromeDriverManager\n",
    "import time"
   ]
  },
  {
   "cell_type": "code",
   "execution_count": 2,
   "metadata": {},
   "outputs": [
    {
     "name": "stderr",
     "output_type": "stream",
     "text": [
      "[WDM] - Current google-chrome version is 87.0.4280\n",
      "[WDM] - Get LATEST driver version for 87.0.4280\n",
      "[WDM] - Driver [C:\\Users\\coled\\.wdm\\drivers\\chromedriver\\win32\\87.0.4280.88\\chromedriver.exe] found in cache\n"
     ]
    },
    {
     "name": "stdout",
     "output_type": "stream",
     "text": [
      " \n"
     ]
    }
   ],
   "source": [
    "executable_path = {'executable_path': ChromeDriverManager().install()}\n",
    "browser = Browser('chrome', **executable_path, headless=False)\n",
    "\n",
    "main_url = 'https://www.ccu.edu/undergrad/'\n",
    "\n",
    "browser.visit(main_url)"
   ]
  },
  {
   "cell_type": "code",
   "execution_count": 3,
   "metadata": {},
   "outputs": [],
   "source": [
    "html = browser.html"
   ]
  },
  {
   "cell_type": "code",
   "execution_count": 4,
   "metadata": {},
   "outputs": [],
   "source": [
    "program_soup = bs(html, 'lxml')"
   ]
  },
  {
   "cell_type": "code",
   "execution_count": 5,
   "metadata": {},
   "outputs": [],
   "source": [
    "program_urls = program_soup.select('li a.uk-panel')"
   ]
  },
  {
   "cell_type": "code",
   "execution_count": null,
   "metadata": {},
   "outputs": [],
   "source": []
  },
  {
   "cell_type": "code",
   "execution_count": null,
   "metadata": {},
   "outputs": [],
   "source": []
  },
  {
   "cell_type": "code",
   "execution_count": 8,
   "metadata": {},
   "outputs": [
    {
     "name": "stdout",
     "output_type": "stream",
     "text": [
      "Accounting Degree | Colorado Christian University [{'word': 'accounting', 'count': 18}, {'word': 'business', 'count': 10}, {'word': 'degree', 'count': 6}, {'word': 'christian', 'count': 6}, {'word': 'finance', 'count': 4}, {'word': 'knowledge', 'count': 4}, {'word': 'management', 'count': 3}, {'word': 'colorado', 'count': 3}, {'word': 'provides', 'count': 3}, {'word': 'also', 'count': 3}]\n",
      "---------------------\n",
      "Honors Liberal Arts Minor and Emphasis | Colorado Christian University [{'word': 'honors', 'count': 5}, {'word': 'minor', 'count': 5}, {'word': 'liberal', 'count': 4}, {'word': 'arts', 'count': 4}, {'word': 'augustine', 'count': 3}, {'word': 'christian', 'count': 3}, {'word': 'unique', 'count': 3}, {'word': 'explore', 'count': 3}, {'word': 'great', 'count': 3}, {'word': 'conservative', 'count': 3}]\n",
      "---------------------\n",
      "Biblical Studies Degree | Colorado Christian University [{'word': 'biblical', 'count': 12}, {'word': 'studies', 'count': 12}, {'word': 'degree', 'count': 6}, {'word': 'dual', 'count': 4}, {'word': 'program', 'count': 4}, {'word': 'arts', 'count': 3}, {'word': 'bible', 'count': 3}, {'word': 'languages', 'count': 3}, {'word': 'graduate', 'count': 3}, {'word': 'students', 'count': 3}]\n",
      "---------------------\n",
      "Biology Degree | Colorado Christian University [{'word': 'biology', 'count': 7}, {'word': 'science', 'count': 6}, {'word': 'christian', 'count': 4}, {'word': 'degree', 'count': 3}, {'word': 'courses', 'count': 3}, {'word': 'important', 'count': 3}, {'word': 'graduate', 'count': 3}, {'word': 'colorado', 'count': 2}, {'word': 'university', 'count': 2}, {'word': 'field', 'count': 2}]\n",
      "---------------------\n",
      "Business Minor Degree | Colorado Christian University [{'word': 'business', 'count': 11}, {'word': 'minor', 'count': 5}, {'word': 'provide', 'count': 4}, {'word': 'students', 'count': 4}, {'word': 'ethics', 'count': 4}, {'word': 'designed', 'count': 3}, {'word': 'nonbusiness', 'count': 2}, {'word': 'understanding', 'count': 2}, {'word': 'concepts', 'count': 2}, {'word': 'exposure', 'count': 2}]\n",
      "---------------------\n",
      "Business Administration Degree | Colorado Christian University [{'word': 'business', 'count': 15}, {'word': 'administration', 'count': 5}, {'word': 'world', 'count': 4}, {'word': 'degree', 'count': 4}, {'word': 'leaders', 'count': 4}, {'word': 'vision', 'count': 4}, {'word': 'ethics', 'count': 4}, {'word': 'ethical', 'count': 3}, {'word': 'ccu', 'count': 3}, {'word': 'christian', 'count': 2}]\n",
      "---------------------\n",
      "Camp Management Degree | Colorado Christian University [{'word': 'camp', 'count': 8}, {'word': 'minor', 'count': 5}, {'word': 'management', 'count': 5}, {'word': 'youth', 'count': 4}, {'word': 'business', 'count': 4}, {'word': 'church', 'count': 2}, {'word': 'ministry', 'count': 2}, {'word': 'provide', 'count': 2}, {'word': 'understanding', 'count': 2}, {'word': 'new', 'count': 2}]\n",
      "---------------------\n",
      "Chemistry Degree | Colorado Christian University [{'word': 'chemistry', 'count': 10}, {'word': 'minor', 'count': 6}, {'word': 'science', 'count': 4}, {'word': 'world', 'count': 4}, {'word': 'major', 'count': 3}, {'word': 'study', 'count': 3}, {'word': 'christian', 'count': 2}, {'word': 'offers', 'count': 2}, {'word': 'field', 'count': 2}, {'word': 'function', 'count': 2}]\n",
      "---------------------\n",
      "Church History Degree | Colorado Christian University [{'word': 'history', 'count': 12}, {'word': 'church', 'count': 10}, {'word': 'minor', 'count': 4}, {'word': 'christian', 'count': 3}, {'word': 'contemporary', 'count': 2}, {'word': 'knowledge', 'count': 2}, {'word': 'historical', 'count': 2}, {'word': 'students', 'count': 2}, {'word': 'variety', 'count': 2}, {'word': 'graduates', 'count': 2}]\n",
      "---------------------\n",
      "Bachelor of Arts in Communication and Rhetoric | Colorado Christian University [{'word': 'communication', 'count': 17}, {'word': 'students', 'count': 13}, {'word': 'skills', 'count': 8}, {'word': 'rhetoric', 'count': 7}, {'word': 'ccu', 'count': 5}, {'word': 'degree', 'count': 5}, {'word': 'public', 'count': 4}, {'word': 'writing', 'count': 4}, {'word': 'work', 'count': 4}, {'word': 'team', 'count': 4}]\n",
      "---------------------\n",
      "Bachelor of Arts in Strategic Communication | Colorado Christian University [{'word': 'students', 'count': 16}, {'word': 'communication', 'count': 14}, {'word': 'strategic', 'count': 12}, {'word': 'media', 'count': 10}, {'word': 'digital', 'count': 8}, {'word': 'relations', 'count': 8}, {'word': 'social', 'count': 7}, {'word': 'skills', 'count': 6}, {'word': 'public', 'count': 6}, {'word': 'learn', 'count': 5}]\n",
      "---------------------\n",
      "Computer Information Systems Degree | Colorado Christian University [{'word': 'information', 'count': 9}, {'word': 'systems', 'count': 7}, {'word': 'computer', 'count': 6}, {'word': 'degree', 'count': 5}, {'word': 'cis', 'count': 4}, {'word': 'emphasis', 'count': 3}, {'word': 'business', 'count': 3}, {'word': 'data', 'count': 3}, {'word': 'science', 'count': 2}, {'word': 'students', 'count': 2}]\n",
      "---------------------\n",
      "CPA Licensure | Colorado Christian University [{'word': 'business', 'count': 6}, {'word': 'minor', 'count': 5}, {'word': 'cpas', 'count': 5}, {'word': 'public', 'count': 4}, {'word': 'accounting', 'count': 4}, {'word': 'cpa', 'count': 4}, {'word': 'accountants', 'count': 3}, {'word': 'certified', 'count': 2}, {'word': 'become', 'count': 2}, {'word': 'financial', 'count': 2}]\n",
      "---------------------\n",
      "Creative Writing Degree | Colorado Christian University [{'word': 'creative', 'count': 7}, {'word': 'writing', 'count': 7}, {'word': 'minor', 'count': 4}, {'word': 'genres', 'count': 4}, {'word': 'english', 'count': 3}, {'word': 'students', 'count': 2}, {'word': 'majors', 'count': 2}, {'word': 'may', 'count': 2}, {'word': 'take', 'count': 2}, {'word': 'written', 'count': 2}]\n",
      "---------------------\n",
      "Criminal Justice Law and Practice Degree | Colorado Christian University [{'word': 'justice', 'count': 15}, {'word': 'criminal', 'count': 12}, {'word': 'law', 'count': 12}, {'word': 'program', 'count': 7}, {'word': 'practice', 'count': 6}, {'word': 'students', 'count': 5}, {'word': 'enforcement', 'count': 4}, {'word': 'agencies', 'count': 3}, {'word': 'courts', 'count': 2}, {'word': 'corrections', 'count': 2}]\n",
      "---------------------\n",
      "Digital Media Degree | Colorado Christian University [{'word': 'media', 'count': 8}, {'word': 'minor', 'count': 6}, {'word': 'digital', 'count': 6}, {'word': 'communication', 'count': 4}, {'word': 'students', 'count': 4}, {'word': 'social', 'count': 3}, {'word': 'skills', 'count': 3}, {'word': 'field', 'count': 2}, {'word': 'designed', 'count': 2}, {'word': 'provide', 'count': 2}]\n",
      "---------------------\n",
      "Economics Degree | Colorado Christian University [{'word': 'economics', 'count': 5}, {'word': 'economic', 'count': 5}, {'word': 'minor', 'count': 4}, {'word': 'christian', 'count': 3}, {'word': 'able', 'count': 3}, {'word': 'market', 'count': 3}, {'word': 'business', 'count': 3}, {'word': 'youll', 'count': 3}, {'word': 'students', 'count': 2}, {'word': 'decisions', 'count': 2}]\n",
      "---------------------\n",
      "Education Degree | Colorado Christian University [{'word': 'minor', 'count': 8}, {'word': 'education', 'count': 8}, {'word': 'youll', 'count': 3}, {'word': 'young', 'count': 3}, {'word': 'people', 'count': 3}, {'word': 'lead', 'count': 3}, {'word': 'students', 'count': 3}, {'word': 'ccu', 'count': 2}, {'word': 'lives', 'count': 2}, {'word': 'learning', 'count': 2}]\n",
      "---------------------\n",
      "Elementary Education Degree | Colorado Christian University [{'word': 'education', 'count': 12}, {'word': 'elementary', 'count': 11}, {'word': 'program', 'count': 8}, {'word': 'arts', 'count': 6}, {'word': 'licensure', 'count': 5}, {'word': 'ccus', 'count': 4}, {'word': 'liberal', 'count': 4}, {'word': 'reading', 'count': 4}, {'word': 'state', 'count': 4}, {'word': 'required', 'count': 3}]\n",
      "---------------------\n",
      "Industrial and Systems Engineering Degree | Colorado Christian University [{'word': 'systems', 'count': 7}, {'word': 'industrial', 'count': 6}, {'word': 'engineering', 'count': 5}, {'word': 'science', 'count': 2}, {'word': 'skills', 'count': 2}, {'word': 'chain', 'count': 2}, {'word': 'waste', 'count': 2}, {'word': 'resources', 'count': 2}, {'word': 'skill', 'count': 2}, {'word': 'set', 'count': 2}]\n",
      "---------------------\n"
     ]
    },
    {
     "name": "stdout",
     "output_type": "stream",
     "text": [
      "Bachelor of Arts in English | Colorado Christian University [{'word': 'english', 'count': 20}, {'word': 'literary', 'count': 8}, {'word': 'majors', 'count': 7}, {'word': 'works', 'count': 6}, {'word': 'ccu', 'count': 6}, {'word': 'creative', 'count': 4}, {'word': 'writing', 'count': 4}, {'word': 'major', 'count': 3}, {'word': 'skills', 'count': 3}, {'word': 'variety', 'count': 3}]\n",
      "---------------------\n",
      "Finance Degree | Colorado Christian University [{'word': 'minor', 'count': 4}, {'word': 'financial', 'count': 4}, {'word': 'finance', 'count': 3}, {'word': 'knowledge', 'count': 3}, {'word': 'field', 'count': 2}, {'word': 'skills', 'count': 2}, {'word': 'business', 'count': 2}, {'word': 'analysis', 'count': 2}, {'word': 'offers', 'count': 2}, {'word': 'concepts', 'count': 2}]\n",
      "---------------------\n",
      "Bachelor of Arts in Global Studies | Colorado Christian University [{'word': 'global', 'count': 14}, {'word': 'studies', 'count': 14}, {'word': 'ccu', 'count': 7}, {'word': 'world', 'count': 6}, {'word': 'international', 'count': 6}, {'word': 'work', 'count': 5}, {'word': 'students', 'count': 4}, {'word': 'cultures', 'count': 3}, {'word': 'business', 'count': 3}, {'word': 'majors', 'count': 3}]\n",
      "---------------------\n",
      "Health Sciences Bachelor's Degree | Colorado Christian University [{'word': 'health', 'count': 7}, {'word': 'sciences', 'count': 6}, {'word': 'graduate', 'count': 4}, {'word': 'science', 'count': 3}, {'word': 'youll', 'count': 3}, {'word': 'bachelor', 'count': 2}, {'word': 'colorado', 'count': 2}, {'word': 'christian', 'count': 2}, {'word': 'professional', 'count': 2}, {'word': 'study', 'count': 2}]\n",
      "---------------------\n",
      "Bachelor of Arts in History | Colorado Christian University [{'word': 'history', 'count': 16}, {'word': 'historical', 'count': 7}, {'word': 'students', 'count': 6}, {'word': 'ccu', 'count': 5}, {'word': 'skills', 'count': 4}, {'word': 'events', 'count': 4}, {'word': 'western', 'count': 4}, {'word': 'christian', 'count': 4}, {'word': 'majors', 'count': 3}, {'word': 'past', 'count': 3}]\n",
      "---------------------\n",
      "Intercultural Ministry Degree | Colorado Christian University [{'word': 'minor', 'count': 7}, {'word': 'intercultural', 'count': 6}, {'word': 'ministry', 'count': 6}, {'word': 'us', 'count': 5}, {'word': 'theology', 'count': 3}, {'word': 'knowledge', 'count': 3}, {'word': 'program', 'count': 3}, {'word': 'designed', 'count': 3}, {'word': 'service', 'count': 3}, {'word': 'supplement', 'count': 2}]\n",
      "---------------------\n",
      "International Business Degree | Colorado Christian University [{'word': 'business', 'count': 16}, {'word': 'international', 'count': 8}, {'word': 'minor', 'count': 5}, {'word': 'school', 'count': 2}, {'word': 'leadership', 'count': 2}, {'word': 'majors', 'count': 2}, {'word': 'arena', 'count': 2}, {'word': 'globalization', 'count': 2}, {'word': 'learn', 'count': 2}, {'word': 'cultural', 'count': 2}]\n",
      "---------------------\n",
      "Kinesiology & Exercise Science Degree | Colorado Christian University [{'word': 'exercise', 'count': 11}, {'word': 'science', 'count': 9}, {'word': 'kinesiology', 'count': 7}, {'word': 'health', 'count': 4}, {'word': 'field', 'count': 4}, {'word': 'skills', 'count': 3}, {'word': 'knowledge', 'count': 3}, {'word': 'physical', 'count': 3}, {'word': 'fitness', 'count': 3}, {'word': 'career', 'count': 3}]\n",
      "---------------------\n",
      "Leadership Degree | Colorado Christian University [{'word': 'leadership', 'count': 11}, {'word': 'minor', 'count': 6}, {'word': 'program', 'count': 4}, {'word': 'christian', 'count': 3}, {'word': 'academic', 'count': 3}, {'word': 'principles', 'count': 3}, {'word': 'field', 'count': 3}, {'word': 'studies', 'count': 3}, {'word': 'realworld', 'count': 3}, {'word': 'theory', 'count': 3}]\n",
      "---------------------\n",
      "Liberal Arts Degree | Colorado Christian University [{'word': 'arts', 'count': 8}, {'word': 'liberal', 'count': 6}, {'word': 'degree', 'count': 3}, {'word': 'major', 'count': 2}, {'word': 'christian', 'count': 2}, {'word': 'offer', 'count': 2}, {'word': 'education', 'count': 2}, {'word': 'program', 'count': 2}, {'word': 'learn', 'count': 2}, {'word': 'facts', 'count': 2}]\n",
      "---------------------\n",
      "Management Degree | Colorado Christian University [{'word': 'business', 'count': 9}, {'word': 'minor', 'count': 5}, {'word': 'management', 'count': 5}, {'word': 'nonbusiness', 'count': 2}, {'word': 'successful', 'count': 2}, {'word': 'core', 'count': 2}, {'word': 'well', 'count': 2}, {'word': 'aspects', 'count': 2}, {'word': 'leadership', 'count': 2}, {'word': 'dont', 'count': 2}]\n",
      "---------------------\n",
      "Mathematics Minor | Colorado Christian University [{'word': 'minor', 'count': 7}, {'word': 'mathematics', 'count': 6}, {'word': 'students', 'count': 5}, {'word': 'understanding', 'count': 3}, {'word': 'designed', 'count': 3}, {'word': 'ccu', 'count': 2}, {'word': 'analytical', 'count': 2}, {'word': 'skills', 'count': 2}, {'word': 'fields', 'count': 2}, {'word': 'provide', 'count': 2}]\n",
      "---------------------\n",
      "Marketing Degree | Colorado Christian University [{'word': 'business', 'count': 5}, {'word': 'minor', 'count': 4}, {'word': 'marketing', 'count': 4}, {'word': 'product', 'count': 3}, {'word': 'market', 'count': 3}, {'word': 'school', 'count': 2}, {'word': 'leadership', 'count': 2}, {'word': 'majors', 'count': 2}, {'word': 'principles', 'count': 2}, {'word': 'behavior', 'count': 2}]\n",
      "---------------------\n",
      "Ministry Management Degree | Colorado Christian University [{'word': 'ministry', 'count': 9}, {'word': 'management', 'count': 6}, {'word': 'christian', 'count': 4}, {'word': 'biblical', 'count': 3}, {'word': 'leadership', 'count': 3}, {'word': 'church', 'count': 3}, {'word': 'degree', 'count': 3}, {'word': 'students', 'count': 3}, {'word': 'bachelor', 'count': 2}, {'word': 'arts', 'count': 2}]\n",
      "---------------------\n",
      "Music Degree | Colorado Christian University [{'word': 'music', 'count': 28}, {'word': 'program', 'count': 5}, {'word': 'therapeutic', 'count': 5}, {'word': 'world', 'count': 4}, {'word': 'students', 'count': 4}, {'word': 'healing', 'count': 4}, {'word': 'christian', 'count': 3}, {'word': 'degree', 'count': 3}, {'word': 'major', 'count': 3}, {'word': 'live', 'count': 3}]\n",
      "---------------------\n",
      "Music Education Degree | Colorado Christian University [{'word': 'music', 'count': 19}, {'word': 'education', 'count': 9}, {'word': 'students', 'count': 4}, {'word': 'school', 'count': 4}, {'word': 'major', 'count': 3}, {'word': 'colorado', 'count': 3}, {'word': 'skills', 'count': 3}, {'word': 'bachelor', 'count': 2}, {'word': 'licensure', 'count': 2}, {'word': 'christian', 'count': 2}]\n",
      "---------------------\n",
      "Music Theater Degree | Colorado Christian University [{'word': 'theatre', 'count': 8}, {'word': 'minor', 'count': 7}, {'word': 'music', 'count': 6}, {'word': 'performance', 'count': 4}, {'word': 'students', 'count': 4}, {'word': 'purpose', 'count': 3}, {'word': 'artistic', 'count': 3}, {'word': 'god', 'count': 3}, {'word': 'making', 'count': 2}, {'word': 'christian', 'count': 2}]\n",
      "---------------------\n",
      "Outdoor Leadership Degree | Colorado Christian University [{'word': 'outdoor', 'count': 10}, {'word': 'leadership', 'count': 8}, {'word': 'people', 'count': 3}, {'word': 'god', 'count': 3}, {'word': 'skills', 'count': 3}, {'word': 'program', 'count': 2}, {'word': 'develop', 'count': 2}, {'word': 'others', 'count': 2}, {'word': 'minor', 'count': 2}, {'word': 'recreation', 'count': 2}]\n",
      "---------------------\n",
      "Bachelor of Arts in Politics | Colorado Christian University [{'word': 'political', 'count': 10}, {'word': 'politics', 'count': 8}, {'word': 'students', 'count': 5}, {'word': 'american', 'count': 5}, {'word': 'policy', 'count': 5}, {'word': 'christian', 'count': 4}, {'word': 'law', 'count': 4}, {'word': 'government', 'count': 4}, {'word': 'ccu', 'count': 4}, {'word': 'public', 'count': 4}]\n",
      "---------------------\n",
      "Pre-Engineering Degree | Colorado Christian University [{'word': 'science', 'count': 5}, {'word': 'engineering', 'count': 5}, {'word': 'degree', 'count': 4}, {'word': 'associate', 'count': 2}, {'word': 'preengineering', 'count': 2}, {'word': 'university', 'count': 2}, {'word': 'another', 'count': 2}, {'word': 'discipline', 'count': 2}, {'word': 'foundation', 'count': 2}, {'word': 'ccu', 'count': 2}]\n",
      "---------------------\n"
     ]
    },
    {
     "name": "stdout",
     "output_type": "stream",
     "text": [
      "Pre-Law Degree | Colorado Christian University [{'word': 'law', 'count': 9}, {'word': 'prelaw', 'count': 4}, {'word': 'undergraduate', 'count': 3}, {'word': 'minor', 'count': 3}, {'word': 'christian', 'count': 3}, {'word': 'school', 'count': 3}, {'word': 'study', 'count': 3}, {'word': 'programs', 'count': 2}, {'word': 'colorado', 'count': 2}, {'word': 'university', 'count': 2}]\n",
      "---------------------\n",
      "Pre-Med Degree | Colorado Christian University [{'word': 'students', 'count': 8}, {'word': 'premedical', 'count': 6}, {'word': 'medicine', 'count': 6}, {'word': 'school', 'count': 6}, {'word': 'program', 'count': 5}, {'word': 'profession', 'count': 4}, {'word': 'ccu', 'count': 4}, {'word': 'medical', 'count': 4}, {'word': 'graduate', 'count': 4}, {'word': 'also', 'count': 3}]\n",
      "---------------------\n",
      "Bachelor of Arts in Psychology | Colorado Christian University [{'word': 'psychology', 'count': 10}, {'word': 'students', 'count': 8}, {'word': 'degree', 'count': 7}, {'word': 'program', 'count': 5}, {'word': 'interested', 'count': 4}, {'word': 'undergraduate', 'count': 3}, {'word': 'studies', 'count': 3}, {'word': 'ccu', 'count': 3}, {'word': 'graduate', 'count': 3}, {'word': 'masters', 'count': 3}]\n",
      "---------------------\n",
      "Public Relations Degree | Colorado Christian University [{'word': 'relations', 'count': 5}, {'word': 'minor', 'count': 4}, {'word': 'public', 'count': 4}, {'word': 'students', 'count': 3}, {'word': 'success', 'count': 2}, {'word': 'communication', 'count': 2}, {'word': 'learn', 'count': 2}, {'word': 'social', 'count': 2}, {'word': 'j', 'count': 2}, {'word': 'heinz', 'count': 2}]\n",
      "---------------------\n",
      "Reading Education Degree | Colorado Christian University [{'word': 'education', 'count': 11}, {'word': 'reading', 'count': 9}, {'word': 'minor', 'count': 6}, {'word': 'students', 'count': 3}, {'word': 'core', 'count': 3}, {'word': 'elementary', 'count': 2}, {'word': 'special', 'count': 2}, {'word': 'career', 'count': 2}, {'word': 'plan', 'count': 2}, {'word': 'licensure', 'count': 2}]\n",
      "---------------------\n",
      "Reading Literacy Emphasis | Colorado Christian University [{'word': 'reading', 'count': 9}, {'word': 'literacy', 'count': 7}, {'word': 'education', 'count': 6}, {'word': 'emphasis', 'count': 5}, {'word': 'elementary', 'count': 3}, {'word': 'program', 'count': 3}, {'word': 'courses', 'count': 3}, {'word': 'awarded', 'count': 2}, {'word': 'special', 'count': 2}, {'word': 'youll', 'count': 2}]\n",
      "---------------------\n",
      "Science Degree | Colorado Christian University [{'word': 'science', 'count': 13}, {'word': 'scientific', 'count': 3}, {'word': 'earth', 'count': 2}, {'word': 'major', 'count': 2}, {'word': 'sciences', 'count': 2}, {'word': 'god', 'count': 2}, {'word': 'bachelor', 'count': 1}, {'word': 'scienceare', 'count': 1}, {'word': 'fascinated', 'count': 1}, {'word': 'thought', 'count': 1}]\n",
      "---------------------\n",
      "Secondary Education Degree | Colorado Christian University [{'word': 'education', 'count': 6}, {'word': 'licensure', 'count': 6}, {'word': 'teacher', 'count': 5}, {'word': 'teaching', 'count': 5}, {'word': 'christian', 'count': 4}, {'word': 'school', 'count': 4}, {'word': 'students', 'count': 3}, {'word': 'secondary', 'count': 3}, {'word': 'experience', 'count': 3}, {'word': 'ccu', 'count': 3}]\n",
      "---------------------\n",
      "Social Science Degree | Colorado Christian University [{'word': 'social', 'count': 8}, {'word': 'science', 'count': 6}, {'word': 'history', 'count': 4}, {'word': 'studies', 'count': 3}, {'word': 'degree', 'count': 3}, {'word': 'youll', 'count': 3}, {'word': 'global', 'count': 2}, {'word': 'major', 'count': 2}, {'word': 'school', 'count': 2}, {'word': 'better', 'count': 2}]\n",
      "---------------------\n",
      "Special Education Degree | Colorado Christian University [{'word': 'special', 'count': 8}, {'word': 'education', 'count': 8}, {'word': 'learning', 'count': 5}, {'word': 'arts', 'count': 3}, {'word': 'instruction', 'count': 3}, {'word': 'students', 'count': 3}, {'word': 'program', 'count': 3}, {'word': 'christian', 'count': 3}, {'word': 'liberal', 'count': 2}, {'word': 'individualized', 'count': 2}]\n",
      "---------------------\n",
      "Teaching and Learning Degree | Colorado Christian University [{'word': 'teaching', 'count': 6}, {'word': 'learning', 'count': 6}, {'word': 'program', 'count': 6}, {'word': 'professional', 'count': 4}, {'word': 'students', 'count': 3}, {'word': 'education', 'count': 3}, {'word': 'ccu', 'count': 3}, {'word': 'bachelor', 'count': 2}, {'word': 'arts', 'count': 2}, {'word': 'available', 'count': 2}]\n",
      "---------------------\n",
      "Theatre Degree | Colorado Christian University [{'word': 'theatre', 'count': 7}, {'word': 'minor', 'count': 6}, {'word': 'music', 'count': 5}, {'word': 'school', 'count': 4}, {'word': 'students', 'count': 3}, {'word': 'acting', 'count': 3}, {'word': 'opportunity', 'count': 2}, {'word': 'pursue', 'count': 2}, {'word': 'major', 'count': 2}, {'word': 'provides', 'count': 2}]\n",
      "---------------------\n",
      "Theology Degree | Colorado Christian University [{'word': 'degree', 'count': 8}, {'word': 'theology', 'count': 6}, {'word': 'dual', 'count': 4}, {'word': 'theological', 'count': 4}, {'word': 'youll', 'count': 4}, {'word': 'studies', 'count': 4}, {'word': 'arts', 'count': 3}, {'word': 'major', 'count': 3}, {'word': 'christian', 'count': 3}, {'word': 'students', 'count': 3}]\n",
      "---------------------\n",
      "Worship Arts Degree | Colorado Christian University [{'word': 'worship', 'count': 7}, {'word': 'music', 'count': 6}, {'word': 'arts', 'count': 4}, {'word': 'program', 'count': 3}, {'word': 'bachelor', 'count': 2}, {'word': 'ministry', 'count': 2}, {'word': 'particular', 'count': 2}, {'word': 'word', 'count': 2}, {'word': 'god', 'count': 2}, {'word': 'gift', 'count': 2}]\n",
      "---------------------\n",
      "Young Life Leadership Degree | Colorado Christian University [{'word': 'life', 'count': 13}, {'word': 'young', 'count': 9}, {'word': 'ministry', 'count': 5}, {'word': 'minor', 'count': 4}, {'word': 'leadership', 'count': 4}, {'word': 'kids', 'count': 3}, {'word': 'take', 'count': 3}, {'word': 'area', 'count': 3}, {'word': 'christian', 'count': 2}, {'word': 'school', 'count': 2}]\n",
      "---------------------\n",
      "Youth Ministry Degree | Colorado Christian University [{'word': 'youth', 'count': 12}, {'word': 'ministry', 'count': 8}, {'word': 'degree', 'count': 3}, {'word': 'biblical', 'count': 3}, {'word': 'time', 'count': 3}, {'word': 'youll', 'count': 3}, {'word': 'ccus', 'count': 3}, {'word': 'programs', 'count': 2}, {'word': 'program', 'count': 2}, {'word': 'new', 'count': 2}]\n",
      "---------------------\n"
     ]
    }
   ],
   "source": [
    "webpage_info = []\n",
    "\n",
    "for u in program_urls:\n",
    "    \n",
    "    # Loop through each link on programs page\n",
    "    \n",
    "    program_link = u.get('href')\n",
    "    program_url_full = f'https://www.ccu.edu/undergrad/{program_link}'\n",
    "    browser.visit(program_url_full)\n",
    "    \n",
    "    # Get Browser HTML\n",
    "    page_html = browser.html\n",
    "    page_soup = bs(page_html, 'html.parser')\n",
    "    page_title = page_soup.find('title').text\n",
    "    page_h1 = page_soup.find('h1').text\n",
    "    page_paras = page_soup.select('article')\n",
    "    page_text = []\n",
    "    \n",
    "    # Get clean text, word count for text on the page\n",
    "    for p in page_paras:\n",
    "        page_text.append(p.text)\n",
    "        clean_paras = clean(page_text, no_punct=True)\n",
    "        tokens = [t for t in clean_paras.split()]\n",
    "        clean_tokens = tokens[:]\n",
    "        for token in tokens:\n",
    "            if token in stopwords.words('english'):\n",
    "                clean_tokens.remove(token)\n",
    "        freq = nltk.FreqDist(clean_tokens)\n",
    "        freq_words = []\n",
    "        for key,val in freq.most_common(10):\n",
    "            words_dict = {}\n",
    "            words_dict[\"word\"] = key\n",
    "            words_dict[\"count\"] = val\n",
    "            freq_words.append(words_dict) \n",
    "    print(page_title, freq_words)\n",
    "    print('---------------------')\n",
    "    \n",
    "    page_dict = {}\n",
    "    page_dict['page_title'] = page_title\n",
    "    page_dict['page_h1'] = page_h1\n",
    "    page_dict['page_paras'] = \n",
    "\n",
    "#     webpage_info.append(page_dict)\n",
    "    "
   ]
  },
  {
   "cell_type": "code",
   "execution_count": 9,
   "metadata": {},
   "outputs": [],
   "source": [
    "browser.quit()"
   ]
  },
  {
   "cell_type": "code",
   "execution_count": 10,
   "metadata": {},
   "outputs": [
    {
     "data": {
      "text/plain": [
       "[{'word': 'youth', 'count': 12},\n",
       " {'word': 'ministry', 'count': 8},\n",
       " {'word': 'degree', 'count': 3},\n",
       " {'word': 'biblical', 'count': 3},\n",
       " {'word': 'time', 'count': 3},\n",
       " {'word': 'youll', 'count': 3},\n",
       " {'word': 'ccus', 'count': 3},\n",
       " {'word': 'programs', 'count': 2},\n",
       " {'word': 'program', 'count': 2},\n",
       " {'word': 'new', 'count': 2}]"
      ]
     },
     "execution_count": 10,
     "metadata": {},
     "output_type": "execute_result"
    }
   ],
   "source": [
    "freq_words"
   ]
  },
  {
   "cell_type": "code",
   "execution_count": null,
   "metadata": {},
   "outputs": [],
   "source": []
  },
  {
   "cell_type": "code",
   "execution_count": null,
   "metadata": {},
   "outputs": [],
   "source": []
  },
  {
   "cell_type": "code",
   "execution_count": null,
   "metadata": {},
   "outputs": [],
   "source": []
  },
  {
   "cell_type": "code",
   "execution_count": null,
   "metadata": {},
   "outputs": [],
   "source": []
  }
 ],
 "metadata": {
  "kernelspec": {
   "display_name": "Python 3",
   "language": "python",
   "name": "python3"
  },
  "language_info": {
   "codemirror_mode": {
    "name": "ipython",
    "version": 3
   },
   "file_extension": ".py",
   "mimetype": "text/x-python",
   "name": "python",
   "nbconvert_exporter": "python",
   "pygments_lexer": "ipython3",
   "version": "3.7.8"
  }
 },
 "nbformat": 4,
 "nbformat_minor": 4
}

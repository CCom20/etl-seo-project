{
 "cells": [
  {
   "cell_type": "code",
   "execution_count": 3,
   "metadata": {},
   "outputs": [],
   "source": [
    "import requests\n",
    "import pandas as pd\n",
    "import nltk\n",
    "from bs4 import BeautifulSoup as bs\n",
    "from splinter import Browser\n",
    "from webdriver_manager.chrome import ChromeDriverManager\n",
    "import time"
   ]
  },
  {
   "cell_type": "code",
   "execution_count": 16,
   "metadata": {},
   "outputs": [
    {
     "name": "stderr",
     "output_type": "stream",
     "text": [
      "[WDM] - Current google-chrome version is 86.0.4240\n",
      "[WDM] - Get LATEST driver version for 86.0.4240\n",
      "[WDM] - Driver [C:\\Users\\coled\\.wdm\\drivers\\chromedriver\\win32\\86.0.4240.22\\chromedriver.exe] found in cache\n"
     ]
    },
    {
     "name": "stdout",
     "output_type": "stream",
     "text": [
      " \n"
     ]
    }
   ],
   "source": [
    "executable_path = {'executable_path': ChromeDriverManager().install()}\n",
    "browser = Browser('chrome', **executable_path, headless=False)\n",
    "\n",
    "main_url = 'https://www.ccu.edu/undergrad/'\n",
    "\n",
    "browser.visit(main_url)"
   ]
  },
  {
   "cell_type": "code",
   "execution_count": 17,
   "metadata": {},
   "outputs": [],
   "source": [
    "html = browser.html"
   ]
  },
  {
   "cell_type": "code",
   "execution_count": 18,
   "metadata": {},
   "outputs": [],
   "source": [
    "program_soup = bs(html, 'lxml')"
   ]
  },
  {
   "cell_type": "code",
   "execution_count": 19,
   "metadata": {},
   "outputs": [],
   "source": [
    "program_urls = program_soup.select('li a.uk-panel')"
   ]
  },
  {
   "cell_type": "code",
   "execution_count": 35,
   "metadata": {},
   "outputs": [
    {
     "name": "stdout",
     "output_type": "stream",
     "text": [
      "Accounting Degree | Colorado Christian University Bachelor's Degree in Accounting\n",
      "Honors Liberal Arts Minor and Emphasis | Colorado Christian University Augustine Honors Liberal Arts Minor\n",
      "Biblical Studies Degree | Colorado Christian University Bachelor's Degree in Biblical Studies\n",
      "Biology Degree | Colorado Christian University Bachelor's Degree in Biology\n",
      "Business Minor Degree | Colorado Christian University Minor Degree in Business\n",
      "Business Administration Degree | Colorado Christian University Bachelor's Degree in Business Administration\n",
      "Camp Management Degree | Colorado Christian University Minor Degree in Camp Management\n",
      "Chemistry Degree | Colorado Christian University Minor Degree in Chemistry\n",
      "Church History Degree | Colorado Christian University Minor Degree in Church History\n",
      "Bachelor of Arts in Communication and Rhetoric | Colorado Christian University Bachelor of Arts in Communication and Rhetoric\n",
      "Bachelor of Arts in Strategic Communication | Colorado Christian University Bachelor of Arts in Strategic Communication\n",
      "Computer Information Systems Degree | Colorado Christian University Bachelor's Degree in Computer Information Systems\n",
      "CPA Licensure | Colorado Christian University CPA Licensure Minor\n",
      "Creative Writing Degree | Colorado Christian University Minor Degree in Creative Writing\n",
      "Criminal Justice Law and Practice Degree | Colorado Christian University Bachelor's Degree in Criminal Justice\n",
      "Digital Media Degree | Colorado Christian University Minor Degree in Digital Media\n",
      "Economics Degree | Colorado Christian University Minor Degree in Economics\n",
      "Education Degree | Colorado Christian University Minor Degree in Education\n",
      "Elementary Education Degree | Colorado Christian University Bachelor's Degree in Elementary Education\n",
      "Industrial and Systems Engineering Degree | Colorado Christian University Industrial and Systems Engineering Degree\n",
      "Bachelor of Arts in English | Colorado Christian University Bachelor of Arts in English\n",
      "Finance Degree | Colorado Christian University Minor Degree in Finance\n",
      "Bachelor of Arts in Global Studies | Colorado Christian University Bachelor of Arts in Global Studies\n",
      "Health Sciences Bachelor's Degree | Colorado Christian University Bachelor's Degree in Health Sciences\n",
      "Bachelor of Arts in History | Colorado Christian University Bachelor of Arts in History\n",
      "Intercultural Ministry Degree | Colorado Christian University Minor Degree in Intercultural Ministry\n",
      "International Business Degree | Colorado Christian University Minor Degree in International Business\n",
      "Kinesiology & Exercise Science Degree | Colorado Christian University Bachelor's Degree in Kinesiology & Exercise Science\n",
      "Leadership Degree | Colorado Christian University Minor Degree in Leadership Studies\n",
      "Liberal Arts Degree | Colorado Christian University Bachelor's Degree in Liberal Arts\n",
      "Management Degree | Colorado Christian University Minor Degree in Management Studies\n",
      "Mathematics Minor | Colorado Christian University Minor Degree in Mathematics\n",
      "Marketing Degree | Colorado Christian University Minor Degree in Marketing\n",
      "Ministry Management Degree | Colorado Christian University Bachelor's Degree in Ministry Management\n",
      "Music Degree | Colorado Christian University Bachelor's Degree in Music\n",
      "Music Education Degree | Colorado Christian University Bachelor's Degree in Music Education\n",
      "Music Theater Degree | Colorado Christian University Minor Degree in Music Theatre\n",
      "Outdoor Leadership Degree | Colorado Christian University Bachelor's Degree in Outdoor Leadership\n",
      "Bachelor of Arts in Politics | Colorado Christian University Bachelor of Arts in Politics\n",
      "Pre-Engineering Degree | Colorado Christian University Pre-Engineering Degree | Colorado Christian University\n",
      "Pre-Law Degree | Colorado Christian University Minor Degree in Pre-Law\n",
      "Pre-Med Degree | Colorado Christian University Bachelor's Degree in Pre-Med\n",
      "Bachelor of Arts in Psychology | Colorado Christian University Bachelor of Arts in Psychology\n",
      "Public Relations Degree | Colorado Christian University Minor Degree in Public Relations\n",
      "Reading Education Degree | Colorado Christian University Minor Degree in Reading Education\n",
      "Reading Literacy Emphasis | Colorado Christian University Reading Literacy Emphasis\n",
      "Science Degree | Colorado Christian University Bachelor's Degree in Science\n",
      "Secondary Education Degree | Colorado Christian University Bachelor's Degree in Secondary Education\n",
      "Social Science Degree | Colorado Christian University Bachelor's Degree in Social Science\n",
      "Special Education Degree | Colorado Christian University Bachelor's Degree in Special Education\n",
      "Teaching and Learning Degree | Colorado Christian University Bachelor's Degree in Teaching and Learning\n",
      "Theatre Degree | Colorado Christian University Minor Degree in Theatre\n",
      "Theology Degree | Colorado Christian University Bachelor's Degree in Theology\n",
      "Worship Arts Degree | Colorado Christian University Bachelor's Degree in Worship Arts\n",
      "Young Life Leadership Degree | Colorado Christian University Minor Degree in Young Life Leadership\n",
      "Youth Ministry Degree | Colorado Christian University Bachelor's Degree in Youth Ministry\n"
     ]
    }
   ],
   "source": [
    "list_urls = []\n",
    "\n",
    "for u in program_urls:\n",
    "    program_link = u.get('href')\n",
    "    program_url_full = f'https://www.ccu.edu/undergrad/{program_link}'\n",
    "    browser.visit(program_url_full)\n",
    "    page_html = browser.html\n",
    "    page_soup = bs(page_html, 'html.parser')\n",
    "    page_title = page_soup.find('title').text\n",
    "    page_h1 = page_soup.find('h1').text\n",
    "    print(page_title, page_h1)\n",
    "    "
   ]
  },
  {
   "cell_type": "code",
   "execution_count": null,
   "metadata": {},
   "outputs": [],
   "source": []
  },
  {
   "cell_type": "code",
   "execution_count": null,
   "metadata": {},
   "outputs": [],
   "source": []
  },
  {
   "cell_type": "code",
   "execution_count": null,
   "metadata": {},
   "outputs": [],
   "source": []
  },
  {
   "cell_type": "code",
   "execution_count": null,
   "metadata": {},
   "outputs": [],
   "source": []
  },
  {
   "cell_type": "code",
   "execution_count": null,
   "metadata": {},
   "outputs": [],
   "source": []
  },
  {
   "cell_type": "code",
   "execution_count": null,
   "metadata": {},
   "outputs": [],
   "source": []
  },
  {
   "cell_type": "code",
   "execution_count": null,
   "metadata": {},
   "outputs": [],
   "source": [
    "page_paras = page_soup.select('p')\n",
    "page_paras\n",
    "\n",
    "page_text = []\n",
    "\n",
    "for p in page_paras:\n",
    "    page_text.append(p.text)\n",
    "    \n",
    "page_text"
   ]
  },
  {
   "cell_type": "code",
   "execution_count": null,
   "metadata": {},
   "outputs": [],
   "source": [
    "from cleantext import clean"
   ]
  },
  {
   "cell_type": "code",
   "execution_count": null,
   "metadata": {},
   "outputs": [],
   "source": [
    "clean_paras = clean(page_text, no_punct=True)"
   ]
  },
  {
   "cell_type": "code",
   "execution_count": null,
   "metadata": {},
   "outputs": [],
   "source": []
  },
  {
   "cell_type": "code",
   "execution_count": null,
   "metadata": {},
   "outputs": [],
   "source": [
    "clean_paras"
   ]
  },
  {
   "cell_type": "code",
   "execution_count": null,
   "metadata": {},
   "outputs": [],
   "source": [
    "tokens = [t for t in clean_paras.split()]"
   ]
  },
  {
   "cell_type": "code",
   "execution_count": null,
   "metadata": {},
   "outputs": [],
   "source": [
    "tokens"
   ]
  },
  {
   "cell_type": "code",
   "execution_count": null,
   "metadata": {},
   "outputs": [],
   "source": [
    "from nltk.corpus import stopwords"
   ]
  },
  {
   "cell_type": "code",
   "execution_count": null,
   "metadata": {},
   "outputs": [],
   "source": [
    "sr= stopwords.words('english')"
   ]
  },
  {
   "cell_type": "code",
   "execution_count": null,
   "metadata": {},
   "outputs": [],
   "source": [
    "clean_tokens = tokens[:]"
   ]
  },
  {
   "cell_type": "code",
   "execution_count": null,
   "metadata": {},
   "outputs": [],
   "source": [
    "for token in tokens:\n",
    "    if token in stopwords.words('english'):\n",
    "        clean_tokens.remove(token)"
   ]
  },
  {
   "cell_type": "code",
   "execution_count": null,
   "metadata": {},
   "outputs": [],
   "source": [
    "clean_tokens"
   ]
  },
  {
   "cell_type": "code",
   "execution_count": null,
   "metadata": {},
   "outputs": [],
   "source": [
    "len(tokens)"
   ]
  },
  {
   "cell_type": "code",
   "execution_count": null,
   "metadata": {},
   "outputs": [],
   "source": [
    "len(clean_tokens)"
   ]
  },
  {
   "cell_type": "code",
   "execution_count": null,
   "metadata": {},
   "outputs": [],
   "source": [
    "freq = nltk.FreqDist(clean_tokens)"
   ]
  },
  {
   "cell_type": "code",
   "execution_count": null,
   "metadata": {},
   "outputs": [],
   "source": [
    "freq.most_common(10)"
   ]
  },
  {
   "cell_type": "code",
   "execution_count": null,
   "metadata": {},
   "outputs": [],
   "source": [
    "freq_words = []\n",
    "for key,val in freq.most_common(10):\n",
    "    words_dict = {}\n",
    "    words_dict[\"word\"] = key\n",
    "    words_dict[\"count\"] = val\n",
    "    freq_words.append(words_dict)"
   ]
  },
  {
   "cell_type": "code",
   "execution_count": null,
   "metadata": {},
   "outputs": [],
   "source": [
    "freq_words"
   ]
  },
  {
   "cell_type": "code",
   "execution_count": null,
   "metadata": {},
   "outputs": [],
   "source": []
  },
  {
   "cell_type": "code",
   "execution_count": null,
   "metadata": {},
   "outputs": [],
   "source": [
    "clean_tokens = tokens[:]"
   ]
  },
  {
   "cell_type": "code",
   "execution_count": null,
   "metadata": {},
   "outputs": [],
   "source": [
    "for token in tokens:\n",
    "    if token in stopwords.words('english'):\n",
    "        clean_tokens.remove(token)"
   ]
  },
  {
   "cell_type": "code",
   "execution_count": null,
   "metadata": {},
   "outputs": [],
   "source": [
    "clean_tokens"
   ]
  },
  {
   "cell_type": "code",
   "execution_count": null,
   "metadata": {},
   "outputs": [],
   "source": []
  },
  {
   "cell_type": "code",
   "execution_count": null,
   "metadata": {},
   "outputs": [],
   "source": [
    "for p in page_text:\n",
    "    clean(page_text, no_punct=True)\n",
    "    print(p)"
   ]
  },
  {
   "cell_type": "code",
   "execution_count": null,
   "metadata": {},
   "outputs": [],
   "source": [
    "page_info = {}"
   ]
  },
  {
   "cell_type": "code",
   "execution_count": null,
   "metadata": {},
   "outputs": [],
   "source": [
    "page_info[\"page_title\"] = page_title\n",
    "page_info[\"page_h1\"] = page_h1\n",
    "page_info[\"page_text\"] = page_text"
   ]
  },
  {
   "cell_type": "code",
   "execution_count": null,
   "metadata": {},
   "outputs": [],
   "source": [
    "page_info"
   ]
  },
  {
   "cell_type": "code",
   "execution_count": null,
   "metadata": {},
   "outputs": [],
   "source": [
    "from cleantext import clean"
   ]
  },
  {
   "cell_type": "code",
   "execution_count": null,
   "metadata": {},
   "outputs": [],
   "source": [
    "p_text = clean(p.text, no_punct=True)"
   ]
  },
  {
   "cell_type": "code",
   "execution_count": null,
   "metadata": {},
   "outputs": [],
   "source": [
    "p_text"
   ]
  },
  {
   "cell_type": "code",
   "execution_count": null,
   "metadata": {},
   "outputs": [],
   "source": [
    "tokens = [t for t in p_text.split()]"
   ]
  },
  {
   "cell_type": "code",
   "execution_count": null,
   "metadata": {},
   "outputs": [],
   "source": [
    "token_text = []\n",
    "\n",
    "tokens"
   ]
  },
  {
   "cell_type": "code",
   "execution_count": null,
   "metadata": {},
   "outputs": [],
   "source": []
  },
  {
   "cell_type": "code",
   "execution_count": null,
   "metadata": {},
   "outputs": [],
   "source": []
  },
  {
   "cell_type": "code",
   "execution_count": null,
   "metadata": {},
   "outputs": [],
   "source": [
    "clean_page_text = []\n",
    "\n",
    "for p in page_text:\n",
    "    p_text = clean(p.text, no_punct=True)\n",
    "    tokens = [t for t in p_text.split()]\n",
    "    clean_page_text.append(tokens)"
   ]
  },
  {
   "cell_type": "code",
   "execution_count": null,
   "metadata": {},
   "outputs": [],
   "source": [
    "browser.quit()"
   ]
  },
  {
   "cell_type": "code",
   "execution_count": null,
   "metadata": {},
   "outputs": [],
   "source": []
  }
 ],
 "metadata": {
  "kernelspec": {
   "display_name": "Python 3",
   "language": "python",
   "name": "python3"
  },
  "language_info": {
   "codemirror_mode": {
    "name": "ipython",
    "version": 3
   },
   "file_extension": ".py",
   "mimetype": "text/x-python",
   "name": "python",
   "nbconvert_exporter": "python",
   "pygments_lexer": "ipython3",
   "version": "3.7.8"
  }
 },
 "nbformat": 4,
 "nbformat_minor": 4
}
